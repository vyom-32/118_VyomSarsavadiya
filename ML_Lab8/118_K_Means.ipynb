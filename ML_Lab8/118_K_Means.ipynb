{
  "nbformat": 4,
  "nbformat_minor": 0,
  "metadata": {
    "colab": {
      "name": "118_K_Means.ipynb",
      "provenance": [],
      "collapsed_sections": []
    },
    "kernelspec": {
      "name": "python3",
      "display_name": "Python 3"
    },
    "language_info": {
      "name": "python"
    }
  },
  "cells": [
    {
      "cell_type": "markdown",
      "metadata": {
        "id": "Y0NQcmlahHJn"
      },
      "source": [
        "# **Import Data**"
      ]
    },
    {
      "cell_type": "code",
      "metadata": {
        "id": "sKHsgBhPhP57"
      },
      "source": [
        "import numpy as np \n",
        "import pandas as pd \n",
        "from sklearn import datasets\n",
        "from sklearn.cluster import KMeans\n",
        "import matplotlib.pyplot as plt"
      ],
      "execution_count": 2,
      "outputs": []
    },
    {
      "cell_type": "markdown",
      "metadata": {
        "id": "b3TRo32AhX6A"
      },
      "source": [
        "# **Prepare data**"
      ]
    },
    {
      "cell_type": "code",
      "metadata": {
        "colab": {
          "base_uri": "https://localhost:8080/"
        },
        "id": "Rf69VEquhcyU",
        "outputId": "632f0248-cb5c-4fd6-cc24-ac02acf20571"
      },
      "source": [
        "dataset=datasets.load_breast_cancer()\n",
        "dataset\n",
        "\n",
        "print(dataset.data.shape)\n",
        "print(dataset.target.shape)"
      ],
      "execution_count": 3,
      "outputs": [
        {
          "output_type": "stream",
          "name": "stdout",
          "text": [
            "(569, 30)\n",
            "(569,)\n"
          ]
        }
      ]
    },
    {
      "cell_type": "markdown",
      "metadata": {
        "id": "JRatWcYLhfQC"
      },
      "source": [
        "# **K mean model**"
      ]
    },
    {
      "cell_type": "code",
      "metadata": {
        "colab": {
          "base_uri": "https://localhost:8080/"
        },
        "id": "7jhZPbTahj-t",
        "outputId": "48e8d0a7-5e88-4129-d8a2-9533da5f3cc4"
      },
      "source": [
        "kmeans = KMeans(n_clusters=10, random_state=117)\n",
        "prediction = kmeans.fit_predict(dataset.data)\n",
        "print(prediction)\n",
        "\n",
        "kmeans.cluster_centers_.shape\n",
        "print(kmeans.cluster_centers_)"
      ],
      "execution_count": 4,
      "outputs": [
        {
          "output_type": "stream",
          "name": "stdout",
          "text": [
            "[8 8 1 2 1 0 1 0 0 0 7 4 4 7 0 7 7 4 6 0 2 5 7 6 8 4 7 4 4 4 1 0 4 1 4 4 0\n",
            " 2 0 0 0 2 1 0 0 1 5 0 2 0 2 0 2 4 7 2 8 7 2 5 5 5 7 5 0 7 5 2 5 2 8 5 1 0\n",
            " 2 4 2 1 1 2 2 2 6 4 2 1 0 1 2 0 0 0 0 0 7 1 2 5 2 0 0 5 2 5 5 0 2 2 6 2 5\n",
            " 2 0 5 5 2 5 7 4 4 2 1 6 0 2 0 0 1 0 1 2 7 4 7 1 2 2 2 7 5 5 4 2 2 5 2 2 0\n",
            " 0 0 2 5 5 5 0 2 4 7 2 2 2 1 8 2 6 0 5 4 1 0 2 7 7 5 5 5 5 7 2 2 3 8 4 2 7\n",
            " 5 4 2 2 2 0 2 5 0 0 2 0 4 1 7 2 4 8 7 2 7 5 4 2 7 1 2 3 7 0 0 2 5 8 6 0 0\n",
            " 5 7 0 0 5 0 2 0 4 2 2 8 5 0 3 1 0 4 0 2 2 0 1 5 2 2 5 2 8 2 8 4 8 0 8 7 4\n",
            " 7 8 4 4 7 4 3 5 0 2 5 0 2 6 5 4 2 2 4 0 0 1 2 1 7 2 2 2 2 5 2 0 0 2 2 2 0\n",
            " 5 2 0 5 8 2 1 5 2 2 2 5 0 0 2 0 2 2 5 2 2 1 5 2 5 1 2 8 2 2 0 2 7 7 7 2 5\n",
            " 2 2 4 2 8 5 3 0 5 5 1 2 5 2 7 2 2 2 7 3 7 2 2 2 0 5 5 2 2 2 7 0 8 1 2 3 6\n",
            " 4 0 1 8 0 7 5 0 0 2 2 5 2 2 2 0 2 0 2 4 5 5 4 8 2 0 0 2 2 2 4 2 2 2 2 2 7\n",
            " 2 4 2 2 2 5 7 7 2 5 1 2 2 2 0 2 0 5 5 5 2 5 2 0 2 1 1 0 0 2 0 0 0 2 4 0 5\n",
            " 4 2 4 0 0 8 2 1 2 0 2 0 2 2 2 5 1 9 0 2 0 0 0 5 4 2 5 2 7 2 5 2 0 0 2 7 2\n",
            " 0 0 0 7 2 0 1 2 7 2 4 4 2 0 0 2 2 1 1 0 0 2 3 5 5 2 5 7 7 2 0 0 0 7 2 1 1\n",
            " 2 2 5 3 5 0 5 5 0 2 0 2 2 2 0 1 5 8 0 2 5 5 2 0 0 2 0 0 5 5 5 2 5 5 2 5 2\n",
            " 5 5 5 0 2 0 5 7 8 8 1 7 8 5]\n",
            "[[1.39387395e+01 1.90294958e+01 9.04831933e+01 6.00262185e+02\n",
            "  9.39314286e-02 1.00406387e-01 7.45220756e-02 4.14941345e-02\n",
            "  1.75155462e-01 6.16680672e-02 3.13209244e-01 1.08587899e+00\n",
            "  2.26420084e+00 2.71161345e+01 5.84906723e-03 2.42642689e-02\n",
            "  2.82606723e-02 1.11375714e-02 1.78284202e-02 3.49648571e-03\n",
            "  1.57033613e+01 2.55010924e+01 1.03702605e+02 7.57455462e+02\n",
            "  1.28325294e-01 2.62771765e-01 2.65218908e-01 1.12402101e-01\n",
            "  2.83356303e-01 8.43820168e-02]\n",
            " [1.92090698e+01 2.15458140e+01 1.26769767e+02 1.14881395e+03\n",
            "  1.00034186e-01 1.44209302e-01 1.69807674e-01 9.66286047e-02\n",
            "  1.93376744e-01 6.01253488e-02 7.04181395e-01 1.24250000e+00\n",
            "  4.87095349e+00 8.48990698e+01 6.83269767e-03 3.25990698e-02\n",
            "  4.41495349e-02 1.60667674e-02 2.23200000e-02 3.92002326e-03\n",
            "  2.30793023e+01 2.85583721e+01 1.53660465e+02 1.62472093e+03\n",
            "  1.38988372e-01 3.51204651e-01 4.43309302e-01 1.84106977e-01\n",
            "  3.17562791e-01 8.54227907e-02]\n",
            " [1.21398295e+01 1.81243750e+01 7.80391477e+01 4.53930682e+02\n",
            "  9.30579545e-02 7.96476705e-02 4.52235324e-02 2.59481023e-02\n",
            "  1.74372727e-01 6.23869886e-02 2.76667614e-01 1.19831080e+00\n",
            "  1.96479489e+00 2.04931250e+01 6.79651136e-03 2.03912898e-02\n",
            "  2.40284352e-02 9.64013636e-03 2.03964205e-02 3.30967330e-03\n",
            "  1.34010227e+01 2.41963068e+01 8.71398295e+01 5.49269318e+02\n",
            "  1.26916705e-01 1.92223466e-01 1.75752653e-01 7.78560852e-02\n",
            "  2.78232386e-01 7.95895455e-02]\n",
            " [2.42155556e+01 2.20933333e+01 1.60844444e+02 1.85155556e+03\n",
            "  1.02826667e-01 1.57091111e-01 2.24655556e-01 1.35756667e-01\n",
            "  1.78800000e-01 5.79800000e-02 1.27026667e+00 1.11216667e+00\n",
            "  8.98866667e+00 2.07911111e+02 6.44788889e-03 2.61600000e-02\n",
            "  3.73655556e-02 1.45011111e-02 2.05244444e-02 3.17088889e-03\n",
            "  3.11100000e+01 2.93933333e+01 2.08633333e+02 2.97755556e+03\n",
            "  1.38277778e-01 3.37511111e-01 4.48733333e-01 2.21544444e-01\n",
            "  2.81477778e-01 7.83300000e-02]\n",
            " [1.72662222e+01 2.12826667e+01 1.13766667e+02 9.30031111e+02\n",
            "  9.96044444e-02 1.34278667e-01 1.40752222e-01 8.17808889e-02\n",
            "  1.90786667e-01 6.09995556e-02 5.76202222e-01 1.28895333e+00\n",
            "  4.13328889e+00 6.30108889e+01 6.40597778e-03 3.02990444e-02\n",
            "  3.75984444e-02 1.49950444e-02 2.00477778e-02 4.04933333e-03\n",
            "  2.05342222e+01 2.85542222e+01 1.36617778e+02 1.29620000e+03\n",
            "  1.38425333e-01 3.23276889e-01 3.89095556e-01 1.69770444e-01\n",
            "  3.12826667e-01 8.54171111e-02]\n",
            " [9.87515385e+00 1.78310989e+01 6.31275824e+01 2.99732967e+02\n",
            "  9.64635165e-02 8.09469231e-02 4.46973846e-02 1.89206154e-02\n",
            "  1.83812088e-01 6.83807692e-02 2.95191209e-01 1.51460549e+00\n",
            "  2.02103187e+00 1.79611868e+01 9.95848352e-03 2.56543407e-02\n",
            "  3.31990110e-02 1.02651538e-02 2.54141758e-02 4.97217582e-03\n",
            "  1.08238352e+01 2.29446154e+01 6.97957143e+01 3.58796703e+02\n",
            "  1.31465934e-01 1.64161758e-01 1.40192637e-01 5.34132967e-02\n",
            "  2.73173626e-01 8.52007692e-02]\n",
            " [2.21411111e+01 2.30411111e+01 1.48033333e+02 1.52155556e+03\n",
            "  1.05010000e-01 1.83766667e-01 2.39544444e-01 1.30176667e-01\n",
            "  1.90722222e-01 6.06344444e-02 9.61066667e-01 1.39022222e+00\n",
            "  7.01777778e+00 1.36015556e+02 7.70522222e-03 4.47644444e-02\n",
            "  5.48966667e-02 1.62488889e-02 1.98811111e-02 4.35500000e-03\n",
            "  2.80744444e+01 3.10777778e+01 1.92166667e+02 2.38877778e+03\n",
            "  1.45388889e-01 4.37300000e-01 5.43555556e-01 2.29622222e-01\n",
            "  3.01088889e-01 8.62622222e-02]\n",
            " [1.54638000e+01 2.02392000e+01 1.01397600e+02 7.40524000e+02\n",
            "  1.00539400e-01 1.25822000e-01 1.23348200e-01 6.54630000e-02\n",
            "  1.85918000e-01 6.26102000e-02 3.90868000e-01 1.03997400e+00\n",
            "  2.75976000e+00 3.72140000e+01 6.65860000e-03 2.82472800e-02\n",
            "  3.78898000e-02 1.35351000e-02 1.91477200e-02 3.67792000e-03\n",
            "  1.80026000e+01 2.75786000e+01 1.19620000e+02 9.92134000e+02\n",
            "  1.41392800e-01 3.39973200e-01 3.95144000e-01 1.54146800e-01\n",
            "  3.16380000e-01 9.00534000e-02]\n",
            " [2.01415385e+01 2.19288462e+01 1.33696154e+02 1.26529231e+03\n",
            "  1.04046538e-01 1.62936154e-01 2.03368846e-01 1.12997308e-01\n",
            "  1.95876923e-01 6.17669231e-02 7.43607692e-01 1.04544615e+00\n",
            "  5.21096154e+00 9.61280769e+01 6.07065385e-03 3.14061538e-02\n",
            "  4.37934615e-02 1.57963462e-02 1.78696154e-02 3.89538462e-03\n",
            "  2.53707692e+01 2.92965385e+01 1.69553846e+02 1.97088462e+03\n",
            "  1.45473077e-01 4.07311538e-01 5.26211538e-01 2.18661538e-01\n",
            "  3.24896154e-01 9.18253846e-02]\n",
            " [2.74200000e+01 2.62700000e+01 1.86900000e+02 2.50100000e+03\n",
            "  1.08400000e-01 1.98800000e-01 3.63500000e-01 1.68900000e-01\n",
            "  2.06100000e-01 5.62300000e-02 2.54700000e+00 1.30600000e+00\n",
            "  1.86500000e+01 5.42200000e+02 7.65000000e-03 5.37400000e-02\n",
            "  8.05500000e-02 2.59800000e-02 1.69700000e-02 4.55800000e-03\n",
            "  3.60400000e+01 3.13700000e+01 2.51200000e+02 4.25400000e+03\n",
            "  1.35700000e-01 4.25600000e-01 6.83300000e-01 2.62500000e-01\n",
            "  2.64100000e-01 7.42700000e-02]]\n"
          ]
        }
      ]
    },
    {
      "cell_type": "markdown",
      "metadata": {
        "id": "iJaeo8m7hsBs"
      },
      "source": [
        "# **Scatter plot of the data point**"
      ]
    },
    {
      "cell_type": "code",
      "metadata": {
        "colab": {
          "base_uri": "https://localhost:8080/",
          "height": 197
        },
        "id": "19J6oh49hxpc",
        "outputId": "82363363-4c37-4e02-8445-0296d41ed018"
      },
      "source": [
        "# Scatter plot of the data points\n",
        "import matplotlib.pyplot as plt\n",
        "fig, ax = plt.subplots(2, 5, figsize=(8, 3))\n",
        "centers = kmeans.cluster_centers_.reshape(10, 6, 5)\n",
        "for axi, center in zip(ax.flat, centers):\n",
        "  axi.set(xticks=[], yticks=[])\n",
        "  axi.imshow(center, interpolation='nearest', cmap=plt.cm.binary)"
      ],
      "execution_count": 5,
      "outputs": [
        {
          "output_type": "display_data",
          "data": {
            "image/png": "[encoded data removed]",
            "text/plain": [
              "<Figure size 576x216 with 10 Axes>"
            ]
          },
          "metadata": {}
        }
      ]
    },
    {
      "cell_type": "code",
      "metadata": {
        "id": "oqFSupBah0f7"
      },
      "source": [
        "import numpy as np\n",
        "from scipy.stats import mode\n",
        "labels = np.zeros_like(prediction)\n",
        "for i in range(10):\n",
        "  mask = (prediction == i)\n",
        "  labels[mask] = mode(dataset.target[mask])[0]"
      ],
      "execution_count": 6,
      "outputs": []
    },
    {
      "cell_type": "code",
      "metadata": {
        "colab": {
          "base_uri": "https://localhost:8080/"
        },
        "id": "0zDOP2CDh22O",
        "outputId": "c7588951-f80a-4284-88e0-32c1cb7d3231"
      },
      "source": [
        "from sklearn.metrics import accuracy_score\n",
        "accuracy_score(dataset.target, labels)"
      ],
      "execution_count": 7,
      "outputs": [
        {
          "output_type": "execute_result",
          "data": {
            "text/plain": [
              "0.9068541300527241"
            ]
          },
          "metadata": {},
          "execution_count": 7
        }
      ]
    },
    {
      "cell_type": "code",
      "metadata": {
        "colab": {
          "base_uri": "https://localhost:8080/",
          "height": 279
        },
        "id": "02iZDvIyh5OJ",
        "outputId": "a5f59d82-c8a1-428e-cce5-23278d1aa58a"
      },
      "source": [
        "from sklearn.metrics import confusion_matrix\n",
        "import seaborn as sns\n",
        "mat = confusion_matrix(dataset.target, labels)\n",
        "ax = sns.heatmap(mat.T, square=True, annot=True, fmt='d', cbar=False,xticklabels=dataset.target_names,yticklabels=dataset.target_names)\n",
        "\n",
        "#ax.set_ylim(10,10)\n",
        "plt.xlabel('true label')\n",
        "plt.ylabel('predicted label');"
      ],
      "execution_count": 8,
      "outputs": [
        {
          "output_type": "display_data",
          "data": {
            "image/png": "[encoded data removed]",
            "text/plain": [
              "<Figure size 432x288 with 1 Axes>"
            ]
          },
          "metadata": {
            "needs_background": "light"
          }
        }
      ]
    }
  ]
}