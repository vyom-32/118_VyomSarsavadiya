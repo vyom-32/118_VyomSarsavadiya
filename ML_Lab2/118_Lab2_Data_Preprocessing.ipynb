{
 "cells": [
  {
   "cell_type": "code",
   "execution_count": 4,
   "id": "a9646c01",
   "metadata": {},
   "outputs": [
    {
     "name": "stdout",
     "output_type": "stream",
     "text": [
      "Data : \n",
      "       Price   Age     KM FuelType   HP  MetColor  Automatic    CC  Doors  \\\n",
      "0     13500  23.0  46986   Diesel   90       1.0          0  2000  three   \n",
      "1     13750  23.0  72937   Diesel   90       1.0          0  2000      3   \n",
      "2     13950  24.0  41711   Diesel   90       NaN          0  2000      3   \n",
      "3     14950  26.0  48000   Diesel   90       0.0          0  2000      3   \n",
      "4     13750  30.0  38500   Diesel   90       0.0          0  2000      3   \n",
      "...     ...   ...    ...      ...  ...       ...        ...   ...    ...   \n",
      "1431   7500   NaN  20544   Petrol   86       1.0          0  1300      3   \n",
      "1432  10845  72.0     ??   Petrol   86       0.0          0  1300      3   \n",
      "1433   8500   NaN  17016   Petrol   86       0.0          0  1300      3   \n",
      "1434   7250  70.0     ??      NaN   86       1.0          0  1300      3   \n",
      "1435   6950  76.0      1   Petrol  110       0.0          0  1600      5   \n",
      "\n",
      "      Weight  \n",
      "0       1165  \n",
      "1       1165  \n",
      "2       1165  \n",
      "3       1165  \n",
      "4       1170  \n",
      "...      ...  \n",
      "1431    1025  \n",
      "1432    1015  \n",
      "1433    1015  \n",
      "1434    1015  \n",
      "1435    1114  \n",
      "\n",
      "[1436 rows x 10 columns]\n",
      "\n",
      "Data Statistics : \n",
      "               Price          Age     MetColor    Automatic           CC  \\\n",
      "count   1436.000000  1336.000000  1286.000000  1436.000000  1436.000000   \n",
      "mean   10730.824513    55.672156     0.674961     0.055710  1566.827994   \n",
      "std     3626.964585    18.589804     0.468572     0.229441   187.182436   \n",
      "min     4350.000000     1.000000     0.000000     0.000000  1300.000000   \n",
      "25%     8450.000000    43.000000     0.000000     0.000000  1400.000000   \n",
      "50%     9900.000000    60.000000     1.000000     0.000000  1600.000000   \n",
      "75%    11950.000000    70.000000     1.000000     0.000000  1600.000000   \n",
      "max    32500.000000    80.000000     1.000000     1.000000  2000.000000   \n",
      "\n",
      "           Weight  \n",
      "count  1436.00000  \n",
      "mean   1072.45961  \n",
      "std      52.64112  \n",
      "min    1000.00000  \n",
      "25%    1040.00000  \n",
      "50%    1070.00000  \n",
      "75%    1085.00000  \n",
      "max    1615.00000  \n"
     ]
    }
   ],
   "source": [
    "import numpy as np\n",
    "import pandas as pd\n",
    "from sklearn.preprocessing import MinMaxScaler, StandardScaler, LabelEncoder\n",
    "from sklearn.impute import SimpleImputer\n",
    "import seaborn as sns\n",
    "dataset = pd.read_csv('Exercise-CarData.csv', index_col=[0])\n",
    "print('Data : \\n', dataset)\n",
    "print('\\nData Statistics : \\n', dataset.describe())"
   ]
  },
  {
   "cell_type": "code",
   "execution_count": 6,
   "id": "dded1e3c",
   "metadata": {},
   "outputs": [
    {
     "name": "stdout",
     "output_type": "stream",
     "text": [
      "Price          int64\n",
      "Age          float64\n",
      "KM            object\n",
      "FuelType      object\n",
      "HP            object\n",
      "MetColor     float64\n",
      "Automatic      int64\n",
      "CC             int64\n",
      "Doors         object\n",
      "Weight         int64\n",
      "dtype: object\n",
      "\n",
      "Input before imputation : \n",
      " [16900 27.0 '??' 1 '????' nan 0 2000 '3']\n"
     ]
    }
   ],
   "source": [
    "dataset.dropna(how='all', inplace=True)\n",
    "print(dataset.dtypes)\n",
    "\n",
    "new_x = dataset.iloc[:, :-1].values #all rows except last\n",
    "new_y = dataset.iloc[:, -1,].values  # last column\n",
    "\n",
    "new_x[:, 3] = new_x[:, 3].astype('str')\n",
    "le = LabelEncoder()\n",
    "new_x[:, 3] = le.fit_transform(new_x[:, 3])\n",
    "\n",
    "print('\\nInput before imputation : \\n', new_x[6])"
   ]
  },
  {
   "cell_type": "code",
   "execution_count": 7,
   "id": "b955fc34",
   "metadata": {},
   "outputs": [
    {
     "name": "stdout",
     "output_type": "stream",
     "text": [
      "\n",
      "New Input with Mean Value for NaN : \n",
      " [16900.0 27.0 68647.23997185081 1 101.47832167832168 1.0 0 2000 3]\n"
     ]
    }
   ],
   "source": [
    "str_to_num_dictionary={\"zero\":0,\"one\":1,\"two\":2,\"three\":3,\"four\":4,\"five\":5,\"six\":6,\"seven\":7,\"eight\":8,\"nine\":9,\"ten\":10}\n",
    "\n",
    "#for col-3\n",
    "for i in range(new_x[:, 3].size):\n",
    "  if (new_x[i, 2] == \"??\") :\n",
    "    new_x[i, 2] = np.nan\n",
    "  \n",
    "  if (new_x[i, 4] == \"????\") :\n",
    "    new_x[i, 4] = np.nan\n",
    "  \n",
    "  temp = str(new_x[i, 8])\n",
    "  if (temp.isnumeric()) :\n",
    "    new_x[i, 8] = int(temp)\n",
    "  else:\n",
    "    new_x[i, 8] = str_to_num_dictionary[temp]\n",
    "\n",
    "imputer = SimpleImputer(missing_values = np.nan, strategy = \"mean\")\n",
    "mode_imputer = SimpleImputer(missing_values = np.nan, strategy = \"most_frequent\")\n",
    "\n",
    "the_imputer = imputer.fit(new_x[:, 0:3]) #fitting the data, function learns the stats\n",
    "new_x[:, 0:3] = the_imputer.transform(new_x[:, 0:3])\n",
    "\n",
    "the_mode_imputer = mode_imputer.fit(new_x[:, 3:4]) #fitting the data, function learns the stats\n",
    "new_x[:, 3:4] = the_mode_imputer.transform(new_x[:, 3:4])\n",
    "\n",
    "the_imputer = imputer.fit(new_x[:, 4:5]) #fitting the data, function learns the stats\n",
    "new_x[:, 4:5] = the_imputer.transform(new_x[:, 4:5])\n",
    "\n",
    "the_mode_imputer = mode_imputer.fit(new_x[:, 5:6])   \n",
    "new_x[:, 5:6] = the_mode_imputer.transform(new_x[:, 5:6])\n",
    "\n",
    "print('\\nNew Input with Mean Value for NaN : \\n', new_x[6])"
   ]
  },
  {
   "cell_type": "code",
   "execution_count": 8,
   "id": "59e135de",
   "metadata": {},
   "outputs": [
    {
     "data": {
      "text/plain": [
       "Price        float64\n",
       "Age          float64\n",
       "KM           float64\n",
       "FuelType     float64\n",
       "HP           float64\n",
       "MetColor     float64\n",
       "Automatic    float64\n",
       "CC           float64\n",
       "Doors        float64\n",
       "dtype: object"
      ]
     },
     "execution_count": 8,
     "metadata": {},
     "output_type": "execute_result"
    }
   ],
   "source": [
    "new_dataset = pd.DataFrame(new_x, columns=dataset.columns[:-1])\n",
    "\n",
    "new_dataset = new_dataset.astype(float)\n",
    "new_dataset.dtypes"
   ]
  },
  {
   "cell_type": "code",
   "execution_count": 9,
   "id": "518c7d92",
   "metadata": {},
   "outputs": [
    {
     "name": "stdout",
     "output_type": "stream",
     "text": [
      "             Price       Age        KM  FuelType        HP  MetColor  \\\n",
      "Price     1.000000 -0.845111 -0.565016  0.022730  0.308414  0.100920   \n",
      "Age      -0.845111  1.000000  0.495199  0.033599 -0.152946 -0.084719   \n",
      "KM       -0.565016  0.495199  1.000000 -0.356238 -0.332984 -0.088175   \n",
      "FuelType  0.022730  0.033599 -0.356238  1.000000  0.304205  0.021658   \n",
      "HP        0.308414 -0.152946 -0.332984  0.304205  1.000000  0.058166   \n",
      "\n",
      "          Automatic        CC     Doors  \n",
      "Price      0.033081  0.165067  0.185326  \n",
      "Age        0.030931 -0.116255 -0.151785  \n",
      "KM        -0.080743  0.296281 -0.036021  \n",
      "FuelType   0.073860 -0.499114 -0.018434  \n",
      "HP         0.013753  0.053466  0.096938  \n"
     ]
    },
    {
     "data": {
      "text/plain": [
       "<AxesSubplot:>"
      ]
     },
     "execution_count": 9,
     "metadata": {},
     "output_type": "execute_result"
    },
    {
     "data": {
      "image/png": "[encoded data removed]",
      "text/plain": [
       "<Figure size 432x288 with 2 Axes>"
      ]
     },
     "metadata": {
      "needs_background": "light"
     },
     "output_type": "display_data"
    }
   ],
   "source": [
    "corr = new_dataset.corr()\n",
    "print(corr.head())\n",
    "sns.heatmap(corr)"
   ]
  },
  {
   "cell_type": "code",
   "execution_count": 11,
   "id": "d296ddc6",
   "metadata": {},
   "outputs": [
    {
     "name": "stdout",
     "output_type": "stream",
     "text": [
      "Index(['Price', 'Age', 'KM', 'FuelType', 'HP', 'MetColor', 'Automatic', 'CC',\n",
      "       'Doors'],\n",
      "      dtype='object')\n"
     ]
    }
   ],
   "source": [
    "cols = np.full((len(new_dataset.columns), ), True, dtype=bool)\n",
    "for i in range(corr.shape[0]):\n",
    "  for j in range(i+1, corr.shape[0]):\n",
    "    if (corr.iloc[i, j] >= 0.9) :\n",
    "      if (cols[j]):\n",
    "        cols[j] = False\n",
    "\n",
    "\n",
    "selected_cols = new_dataset.columns[cols]\n",
    "print(selected_cols)"
   ]
  },
  {
   "cell_type": "code",
   "execution_count": 12,
   "id": "92f7b861",
   "metadata": {},
   "outputs": [],
   "source": [
    "new_dataset = new_dataset[selected_cols]"
   ]
  },
  {
   "cell_type": "code",
   "execution_count": 13,
   "id": "0b5b2e87",
   "metadata": {},
   "outputs": [
    {
     "name": "stdout",
     "output_type": "stream",
     "text": [
      "\n",
      "Dataset after preprocessing : \n",
      "          Price           Age        KM  FuelType        HP  MetColor  \\\n",
      "0     0.763763 -1.822802e+00 -0.583476       1.0 -0.779131       1.0   \n",
      "1     0.832715 -1.822802e+00  0.115551       1.0 -0.779131       1.0   \n",
      "2     0.887877 -1.767012e+00 -0.725566       1.0 -0.779131       1.0   \n",
      "3     1.163685 -1.655430e+00 -0.556163       1.0 -0.779131       0.0   \n",
      "4     0.832715 -1.432267e+00 -0.812059       1.0 -0.779131       0.0   \n",
      "...        ...           ...       ...       ...       ...       ...   \n",
      "1431 -0.891089 -4.893269e-16 -1.295729       2.0 -1.050645       1.0   \n",
      "1432  0.031491  9.109418e-01  0.000000       2.0 -1.050645       0.0   \n",
      "1433 -0.615281 -4.893269e-16 -1.390761       2.0 -1.050645       0.0   \n",
      "1434 -0.960042  7.993604e-01  0.000000       3.0 -1.050645       1.0   \n",
      "1435 -1.042784  1.134105e+00 -1.849084       2.0  0.578438       0.0   \n",
      "\n",
      "      Automatic        CC  Doors  \n",
      "0           0.0  2.314976    3.0  \n",
      "1           0.0  2.314976    3.0  \n",
      "2           0.0  2.314976    3.0  \n",
      "3           0.0  2.314976    3.0  \n",
      "4           0.0  2.314976    3.0  \n",
      "...         ...       ...    ...  \n",
      "1431        0.0 -1.425994    3.0  \n",
      "1432        0.0 -1.425994    3.0  \n",
      "1433        0.0 -1.425994    3.0  \n",
      "1434        0.0 -1.425994    3.0  \n",
      "1435        0.0  0.177279    5.0  \n",
      "\n",
      "[1436 rows x 9 columns]\n"
     ]
    }
   ],
   "source": [
    "new_x = new_dataset.iloc[:, :-1].values\n",
    "\n",
    "scaler = MinMaxScaler()\n",
    "std = StandardScaler()\n",
    "new_x[:, 0:3] = std.fit_transform(scaler.fit_transform(new_x[:, 0:3]))\n",
    "new_x[:, 4:5] = std.fit_transform(scaler.fit_transform(new_x[:, 4:5]))\n",
    "new_x[:, 7:9] = std.fit_transform(scaler.fit_transform(new_x[:, 7:9]))\n",
    "\n",
    "print('\\nDataset after preprocessing : \\n', new_dataset)"
   ]
  },
  {
   "cell_type": "code",
   "execution_count": null,
   "id": "cee966ea",
   "metadata": {},
   "outputs": [],
   "source": []
  }
 ],
 "metadata": {
  "kernelspec": {
   "display_name": "Python 3",
   "language": "python",
   "name": "python3"
  },
  "language_info": {
   "codemirror_mode": {
    "name": "ipython",
    "version": 3
   },
   "file_extension": ".py",
   "mimetype": "text/x-python",
   "name": "python",
   "nbconvert_exporter": "python",
   "pygments_lexer": "ipython3",
   "version": "3.8.2"
  }
 },
 "nbformat": 4,
 "nbformat_minor": 5
}
