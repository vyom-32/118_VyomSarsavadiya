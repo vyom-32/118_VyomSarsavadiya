{
  "nbformat": 4,
  "nbformat_minor": 0,
  "metadata": {
    "colab": {
      "name": "118LAB11_TASK1.ipynb",
      "provenance": [],
      "collapsed_sections": []
    },
    "kernelspec": {
      "name": "python3",
      "display_name": "Python 3"
    },
    "language_info": {
      "name": "python"
    }
  },
  "cells": [
    {
      "cell_type": "markdown",
      "metadata": {
        "id": "vmk9X0ta6rlf"
      },
      "source": [
        "#**Assignment:**\n",
        "Try SVM classifier on MNIST dataset, compare the preformance of linear, polynomial and RBF kernels."
      ]
    },
    {
      "cell_type": "code",
      "metadata": {
        "id": "eEOtzvw56w4H"
      },
      "source": [
        "import numpy as np\n",
        "import matplotlib.pyplot as plt\n",
        "from sklearn import metrics\n",
        "from sklearn.svm import SVC\n",
        "from tensorflow.keras import datasets\n",
        "from sklearn.model_selection import train_test_split"
      ],
      "execution_count": 1,
      "outputs": []
    },
    {
      "cell_type": "code",
      "metadata": {
        "colab": {
          "base_uri": "https://localhost:8080/"
        },
        "id": "jU-IpL9m60sD",
        "outputId": "da6dae6c-faae-4fa4-9365-6f903c07bc1c"
      },
      "source": [
        "(x_train, y_train), (x_test, y_test) = datasets.mnist.load_data()"
      ],
      "execution_count": 2,
      "outputs": [
        {
          "output_type": "stream",
          "name": "stdout",
          "text": [
            "Downloading data from https://storage.googleapis.com/tensorflow/tf-keras-datasets/mnist.npz\n",
            "11493376/11490434 [==============================] - 0s 0us/step\n",
            "11501568/11490434 [==============================] - 0s 0us/step\n"
          ]
        }
      ]
    },
    {
      "cell_type": "code",
      "metadata": {
        "colab": {
          "base_uri": "https://localhost:8080/"
        },
        "id": "ZyC_5PcO69hQ",
        "outputId": "e52a8dce-e81d-4108-94f8-f22e3216af0f"
      },
      "source": [
        "x_train.shape"
      ],
      "execution_count": 3,
      "outputs": [
        {
          "output_type": "execute_result",
          "data": {
            "text/plain": [
              "(60000, 28, 28)"
            ]
          },
          "metadata": {},
          "execution_count": 3
        }
      ]
    },
    {
      "cell_type": "code",
      "metadata": {
        "colab": {
          "base_uri": "https://localhost:8080/"
        },
        "id": "Whx8nSkx7Asr",
        "outputId": "c20b0865-bf07-4790-90a0-b53b01298635"
      },
      "source": [
        "x_test.shape"
      ],
      "execution_count": 4,
      "outputs": [
        {
          "output_type": "execute_result",
          "data": {
            "text/plain": [
              "(10000, 28, 28)"
            ]
          },
          "metadata": {},
          "execution_count": 4
        }
      ]
    },
    {
      "cell_type": "code",
      "metadata": {
        "colab": {
          "base_uri": "https://localhost:8080/"
        },
        "id": "CR46KIo87Cnx",
        "outputId": "781b9adb-2665-4482-b71a-93fe95a66606"
      },
      "source": [
        "y_train.shape"
      ],
      "execution_count": 5,
      "outputs": [
        {
          "output_type": "execute_result",
          "data": {
            "text/plain": [
              "(60000,)"
            ]
          },
          "metadata": {},
          "execution_count": 5
        }
      ]
    },
    {
      "cell_type": "code",
      "metadata": {
        "colab": {
          "base_uri": "https://localhost:8080/"
        },
        "id": "9Xo3biHY7E8n",
        "outputId": "a6403d63-9892-44d8-f864-02bd65c497dc"
      },
      "source": [
        "y_test.shape"
      ],
      "execution_count": 6,
      "outputs": [
        {
          "output_type": "execute_result",
          "data": {
            "text/plain": [
              "(10000,)"
            ]
          },
          "metadata": {},
          "execution_count": 6
        }
      ]
    },
    {
      "cell_type": "code",
      "metadata": {
        "id": "Orx7_kiN7Gjz"
      },
      "source": [
        "x_train = x_train.reshape(-1,28*28)\n",
        "x_test=x_test.reshape(-1,28*28)"
      ],
      "execution_count": 7,
      "outputs": []
    },
    {
      "cell_type": "code",
      "metadata": {
        "colab": {
          "base_uri": "https://localhost:8080/"
        },
        "id": "0H1s_-lq7Ifu",
        "outputId": "07a44f67-d4f7-4125-ebb6-a697e1fbe7ad"
      },
      "source": [
        "x_train.shape"
      ],
      "execution_count": 8,
      "outputs": [
        {
          "output_type": "execute_result",
          "data": {
            "text/plain": [
              "(60000, 784)"
            ]
          },
          "metadata": {},
          "execution_count": 8
        }
      ]
    },
    {
      "cell_type": "code",
      "metadata": {
        "colab": {
          "base_uri": "https://localhost:8080/"
        },
        "id": "paq93l1C7KUf",
        "outputId": "2f9589bc-4ca1-42ab-e989-b7469873bebf"
      },
      "source": [
        "x_test.shape"
      ],
      "execution_count": 9,
      "outputs": [
        {
          "output_type": "execute_result",
          "data": {
            "text/plain": [
              "(10000, 784)"
            ]
          },
          "metadata": {},
          "execution_count": 9
        }
      ]
    },
    {
      "cell_type": "code",
      "metadata": {
        "id": "l_ZRosqn7MGx"
      },
      "source": [
        "x_train=x_train/255\n",
        "x_test=x_test/255"
      ],
      "execution_count": 10,
      "outputs": []
    },
    {
      "cell_type": "markdown",
      "metadata": {
        "id": "GKoDjAVn7OJe"
      },
      "source": [
        "#**Linear Model**"
      ]
    },
    {
      "cell_type": "code",
      "metadata": {
        "id": "JhWygwtj7QgN"
      },
      "source": [
        "model = SVC(kernel='linear',random_state=118) #roll no 118\n",
        "model.fit(x_train,y_train)\n",
        "pred = model.predict(x_test)"
      ],
      "execution_count": 11,
      "outputs": []
    },
    {
      "cell_type": "code",
      "metadata": {
        "colab": {
          "base_uri": "https://localhost:8080/"
        },
        "id": "oGiyYljl9tBN",
        "outputId": "f424aa4a-f4ea-4f58-da50-f5b554856eb4"
      },
      "source": [
        "print(pred)"
      ],
      "execution_count": 12,
      "outputs": [
        {
          "output_type": "stream",
          "name": "stdout",
          "text": [
            "[7 2 1 ... 4 5 6]\n"
          ]
        }
      ]
    },
    {
      "cell_type": "code",
      "metadata": {
        "colab": {
          "base_uri": "https://localhost:8080/"
        },
        "id": "OFDLGEWc9v0U",
        "outputId": "74f259c9-5839-47e3-d1e2-3550ddce44f6"
      },
      "source": [
        "from sklearn import metrics\n",
        "print(\"Accuracy:\",metrics.accuracy_score(y_test, pred))\n",
        "print(\"Precision Score : \",metrics.precision_score(y_test, pred, pos_label='positive' ,average='micro'))\n",
        "print(\"Recall Score : \",metrics.recall_score(y_test, pred, pos_label='positive',average='micro'))"
      ],
      "execution_count": 13,
      "outputs": [
        {
          "output_type": "stream",
          "name": "stdout",
          "text": [
            "Accuracy: 0.9404\n",
            "Precision Score :  0.9404\n",
            "Recall Score :  0.9404\n"
          ]
        },
        {
          "output_type": "stream",
          "name": "stderr",
          "text": [
            "/usr/local/lib/python3.7/dist-packages/sklearn/metrics/_classification.py:1321: UserWarning: Note that pos_label (set to 'positive') is ignored when average != 'binary' (got 'micro'). You may use labels=[pos_label] to specify a single positive class.\n",
            "  % (pos_label, average), UserWarning)\n"
          ]
        }
      ]
    },
    {
      "cell_type": "markdown",
      "metadata": {
        "id": "feBlKX6A-Gws"
      },
      "source": [
        "#**Polynomial Model**"
      ]
    },
    {
      "cell_type": "code",
      "metadata": {
        "id": "UI4_sbml-LlR"
      },
      "source": [
        "####polynomial model\n",
        "\n",
        "model1 = SVC(kernel='poly',degree=3,gamma='scale',random_state=118) #roll no 118\n",
        "model1.fit(x_train,y_train)\n",
        "pred1 = model1.predict(x_test)"
      ],
      "execution_count": 14,
      "outputs": []
    },
    {
      "cell_type": "code",
      "metadata": {
        "colab": {
          "base_uri": "https://localhost:8080/"
        },
        "id": "SSe2M1as-R1X",
        "outputId": "1b8b1114-6d18-454f-9ae2-bf6c9904c388"
      },
      "source": [
        "from sklearn import metrics\n",
        "print(\"Accuracy:\",metrics.accuracy_score(y_test, pred1))\n",
        "print(\"Precision Score : \",metrics.precision_score(y_test, pred1, pos_label='positive' ,average='micro'))\n",
        "print(\"Recall Score : \",metrics.recall_score(y_test, pred1, pos_label='positive',average='micro'))"
      ],
      "execution_count": 15,
      "outputs": [
        {
          "output_type": "stream",
          "name": "stdout",
          "text": [
            "Accuracy: 0.9771\n",
            "Precision Score :  0.9771\n",
            "Recall Score :  0.9771\n"
          ]
        },
        {
          "output_type": "stream",
          "name": "stderr",
          "text": [
            "/usr/local/lib/python3.7/dist-packages/sklearn/metrics/_classification.py:1321: UserWarning: Note that pos_label (set to 'positive') is ignored when average != 'binary' (got 'micro'). You may use labels=[pos_label] to specify a single positive class.\n",
            "  % (pos_label, average), UserWarning)\n"
          ]
        }
      ]
    },
    {
      "cell_type": "markdown",
      "metadata": {
        "id": "LQNkwliDA_g6"
      },
      "source": [
        "#**RBF Model**"
      ]
    },
    {
      "cell_type": "code",
      "metadata": {
        "id": "KBjF7w0eBD1i"
      },
      "source": [
        "from sklearn.svm import SVC\n",
        "model2 = SVC(kernel='rbf',gamma='scale',random_state=118) #roll no 118\n",
        "model2.fit(x_train,y_train)\n",
        "pred2 = model2.predict(x_test)"
      ],
      "execution_count": 16,
      "outputs": []
    },
    {
      "cell_type": "code",
      "metadata": {
        "colab": {
          "base_uri": "https://localhost:8080/"
        },
        "id": "uX_fJ5roBKXW",
        "outputId": "ed2e6f34-f90b-4294-958a-ee4edd704dd5"
      },
      "source": [
        "from sklearn import metrics\n",
        "print(\"Accuracy:\",metrics.accuracy_score(y_test, pred2))\n",
        "print(\"Precision Score : \",metrics.precision_score(y_test, pred2, pos_label='positive' ,average='micro'))\n",
        "print(\"Recall Score : \",metrics.recall_score(y_test, pred2, pos_label='positive',average='micro'))"
      ],
      "execution_count": 17,
      "outputs": [
        {
          "output_type": "stream",
          "name": "stdout",
          "text": [
            "Accuracy: 0.9792\n",
            "Precision Score :  0.9792\n",
            "Recall Score :  0.9792\n"
          ]
        },
        {
          "output_type": "stream",
          "name": "stderr",
          "text": [
            "/usr/local/lib/python3.7/dist-packages/sklearn/metrics/_classification.py:1321: UserWarning: Note that pos_label (set to 'positive') is ignored when average != 'binary' (got 'micro'). You may use labels=[pos_label] to specify a single positive class.\n",
            "  % (pos_label, average), UserWarning)\n"
          ]
        }
      ]
    }
  ]
}