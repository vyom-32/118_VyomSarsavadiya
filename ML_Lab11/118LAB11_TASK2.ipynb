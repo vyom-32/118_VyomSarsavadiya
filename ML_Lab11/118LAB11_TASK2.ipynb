{
  "nbformat": 4,
  "nbformat_minor": 0,
  "metadata": {
    "colab": {
      "name": "118LAB11_TASK2.ipynb",
      "provenance": [],
      "collapsed_sections": []
    },
    "kernelspec": {
      "name": "python3",
      "display_name": "Python 3"
    },
    "language_info": {
      "name": "python"
    }
  },
  "cells": [
    {
      "cell_type": "markdown",
      "metadata": {
        "id": "J5UnHggTEYOg"
      },
      "source": [
        "#**CE118**\n",
        "Assignment: Perform SVM with PCA operation on Breast Cancer Dataset and Iris Dataset."
      ]
    },
    {
      "cell_type": "code",
      "metadata": {
        "id": "gTvi-lLoEfT0"
      },
      "source": [
        "import numpy as np \n",
        "import matplotlib.pyplot as plt \n",
        "from sklearn.decomposition import PCA \n",
        "import pandas as pd \n",
        "import math \n",
        "import random \n",
        "from sklearn import datasets"
      ],
      "execution_count": 1,
      "outputs": []
    },
    {
      "cell_type": "code",
      "metadata": {
        "id": "dfZT3hR-Ei15"
      },
      "source": [
        "dataset = datasets.load_breast_cancer()"
      ],
      "execution_count": 2,
      "outputs": []
    },
    {
      "cell_type": "code",
      "metadata": {
        "colab": {
          "base_uri": "https://localhost:8080/"
        },
        "id": "7ch0L5EAEkYO",
        "outputId": "81d49cdd-cc0f-4b60-e779-c56a4e6b6d81"
      },
      "source": [
        "dataset.data.shape"
      ],
      "execution_count": 3,
      "outputs": [
        {
          "output_type": "execute_result",
          "data": {
            "text/plain": [
              "(569, 30)"
            ]
          },
          "metadata": {},
          "execution_count": 3
        }
      ]
    },
    {
      "cell_type": "code",
      "metadata": {
        "colab": {
          "base_uri": "https://localhost:8080/"
        },
        "id": "Be_2CY4EEl3z",
        "outputId": "57d022f8-0b5e-401e-cfe4-083b9e202a1a"
      },
      "source": [
        "dataset.target.shape"
      ],
      "execution_count": 4,
      "outputs": [
        {
          "output_type": "execute_result",
          "data": {
            "text/plain": [
              "(569,)"
            ]
          },
          "metadata": {},
          "execution_count": 4
        }
      ]
    },
    {
      "cell_type": "code",
      "metadata": {
        "colab": {
          "base_uri": "https://localhost:8080/"
        },
        "id": "owH1_9_7EpI9",
        "outputId": "4d8302d9-4762-495c-d36c-791b22091dc1"
      },
      "source": [
        "dataset.feature_names"
      ],
      "execution_count": 5,
      "outputs": [
        {
          "output_type": "execute_result",
          "data": {
            "text/plain": [
              "array(['mean radius', 'mean texture', 'mean perimeter', 'mean area',\n",
              "       'mean smoothness', 'mean compactness', 'mean concavity',\n",
              "       'mean concave points', 'mean symmetry', 'mean fractal dimension',\n",
              "       'radius error', 'texture error', 'perimeter error', 'area error',\n",
              "       'smoothness error', 'compactness error', 'concavity error',\n",
              "       'concave points error', 'symmetry error',\n",
              "       'fractal dimension error', 'worst radius', 'worst texture',\n",
              "       'worst perimeter', 'worst area', 'worst smoothness',\n",
              "       'worst compactness', 'worst concavity', 'worst concave points',\n",
              "       'worst symmetry', 'worst fractal dimension'], dtype='<U23')"
            ]
          },
          "metadata": {},
          "execution_count": 5
        }
      ]
    },
    {
      "cell_type": "code",
      "metadata": {
        "colab": {
          "base_uri": "https://localhost:8080/"
        },
        "id": "4DGAmXVGErCQ",
        "outputId": "6b8fbc28-038f-49ee-dbd2-1aad160e872c"
      },
      "source": [
        "dataset.target_names"
      ],
      "execution_count": 6,
      "outputs": [
        {
          "output_type": "execute_result",
          "data": {
            "text/plain": [
              "array(['malignant', 'benign'], dtype='<U9')"
            ]
          },
          "metadata": {},
          "execution_count": 6
        }
      ]
    },
    {
      "cell_type": "code",
      "metadata": {
        "id": "ENMLjGS2EtbS"
      },
      "source": [
        "from sklearn.model_selection import train_test_split\n",
        "x_train, x_test, y_train, y_test = train_test_split(dataset.data, dataset.target, test_size = 0.2,random_state=118) #roll no 118"
      ],
      "execution_count": 7,
      "outputs": []
    },
    {
      "cell_type": "markdown",
      "metadata": {
        "id": "vn5XoViQEzBX"
      },
      "source": [
        "#**SVM Without Applying Dimensinality Reduction.**"
      ]
    },
    {
      "cell_type": "code",
      "metadata": {
        "id": "Cp251xkIE2sO"
      },
      "source": [
        "from sklearn import svm,metrics\n",
        "model = svm.SVC(kernel='linear')\n",
        "model.fit(x_train,y_train)\n",
        "pred = model.predict(x_test)"
      ],
      "execution_count": 8,
      "outputs": []
    },
    {
      "cell_type": "code",
      "metadata": {
        "colab": {
          "base_uri": "https://localhost:8080/"
        },
        "id": "DyzzbVTFE4ty",
        "outputId": "3272b58b-ff39-4fbc-cf50-8e9cae501848"
      },
      "source": [
        "print(\"Accuracy:\",metrics.accuracy_score(y_test, pred))\n",
        "print(\"Precision:\",metrics.precision_score(y_test, pred))\n",
        "print(\"Recall:\",metrics.recall_score(y_test,pred))"
      ],
      "execution_count": 9,
      "outputs": [
        {
          "output_type": "stream",
          "name": "stdout",
          "text": [
            "Accuracy: 0.9736842105263158\n",
            "Precision: 0.974025974025974\n",
            "Recall: 0.9868421052631579\n"
          ]
        }
      ]
    },
    {
      "cell_type": "markdown",
      "metadata": {
        "id": "J04I54CqE8UE"
      },
      "source": [
        "#**SVM With Dimensinality Reduction.**"
      ]
    },
    {
      "cell_type": "code",
      "metadata": {
        "id": "gWsUs3GLE_GH"
      },
      "source": [
        "pca = PCA(n_components=25) \n",
        "pca_fit = pca.fit(dataset.data)"
      ],
      "execution_count": 10,
      "outputs": []
    },
    {
      "cell_type": "code",
      "metadata": {
        "id": "zo8x0tN7FBCO"
      },
      "source": [
        "pca_tran = pca_fit.transform(dataset.data)"
      ],
      "execution_count": 11,
      "outputs": []
    },
    {
      "cell_type": "code",
      "metadata": {
        "colab": {
          "base_uri": "https://localhost:8080/"
        },
        "id": "9vi3Pkc6FDPC",
        "outputId": "9e7c8ff0-2dca-4115-f9ee-88ede266bdb1"
      },
      "source": [
        "column_list=dataset.feature_names\n",
        "print(type(column_list))\n",
        "\n",
        "column_list=list(column_list)\n",
        "print(type(column_list))\n",
        "\n",
        "dataPCA = pd.DataFrame(data = pca_tran, columns = column_list[:25])"
      ],
      "execution_count": 12,
      "outputs": [
        {
          "output_type": "stream",
          "name": "stdout",
          "text": [
            "<class 'numpy.ndarray'>\n",
            "<class 'list'>\n"
          ]
        }
      ]
    },
    {
      "cell_type": "code",
      "metadata": {
        "id": "9EoaBgSaFGJd"
      },
      "source": [
        "x_tr, x_ts, y_tr, y_ts = train_test_split(dataPCA, dataset.target, test_size = 0.2,random_state=118) #roll no 118"
      ],
      "execution_count": 13,
      "outputs": []
    },
    {
      "cell_type": "code",
      "metadata": {
        "colab": {
          "base_uri": "https://localhost:8080/"
        },
        "id": "cuk5LaGpFLKN",
        "outputId": "3e39f87e-7972-40de-bd90-79eebaf01443"
      },
      "source": [
        "x_tr.shape"
      ],
      "execution_count": 14,
      "outputs": [
        {
          "output_type": "execute_result",
          "data": {
            "text/plain": [
              "(455, 25)"
            ]
          },
          "metadata": {},
          "execution_count": 14
        }
      ]
    },
    {
      "cell_type": "code",
      "metadata": {
        "colab": {
          "base_uri": "https://localhost:8080/"
        },
        "id": "6wYIEffFFMMd",
        "outputId": "b23a771a-63b2-4ecd-8028-d5a0e4cc866a"
      },
      "source": [
        "y_tr.shape"
      ],
      "execution_count": 15,
      "outputs": [
        {
          "output_type": "execute_result",
          "data": {
            "text/plain": [
              "(455,)"
            ]
          },
          "metadata": {},
          "execution_count": 15
        }
      ]
    },
    {
      "cell_type": "code",
      "metadata": {
        "id": "oAHIehIIFOA_"
      },
      "source": [
        "model1 = svm.SVC(kernel='linear')\n",
        "model1.fit(x_tr,y_tr)\n",
        "pred1 = model1.predict(x_ts)"
      ],
      "execution_count": 16,
      "outputs": []
    },
    {
      "cell_type": "code",
      "metadata": {
        "colab": {
          "base_uri": "https://localhost:8080/"
        },
        "id": "dPLUNJOqFPum",
        "outputId": "07187daa-2d71-47ac-c2a1-5076945f04ef"
      },
      "source": [
        "from sklearn import metrics\n",
        "print(\"Accuracy:\",metrics.accuracy_score(y_ts, pred1))\n",
        "print(\"Precision:\",metrics.precision_score(y_ts, pred1))\n",
        "print(\"Recall:\",metrics.recall_score(y_ts, pred1))"
      ],
      "execution_count": 17,
      "outputs": [
        {
          "output_type": "stream",
          "name": "stdout",
          "text": [
            "Accuracy: 0.9736842105263158\n",
            "Precision: 0.974025974025974\n",
            "Recall: 0.9868421052631579\n"
          ]
        }
      ]
    }
  ]
}