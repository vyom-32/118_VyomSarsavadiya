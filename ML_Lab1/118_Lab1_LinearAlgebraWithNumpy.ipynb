{
 "cells": [
  {
   "cell_type": "code",
   "execution_count": 2,
   "id": "18d1b5e1",
   "metadata": {},
   "outputs": [
    {
     "name": "stdout",
     "output_type": "stream",
     "text": [
      "3 x 2 matrix : \n",
      " [[1 2]\n",
      " [3 4]\n",
      " [5 6]]\n",
      "\n",
      " 2 x 3 matrix : \n",
      " [[1 2 4]\n",
      " [4 5 6]]\n"
     ]
    }
   ],
   "source": [
    "import numpy as np\n",
    "import pandas as pd\n",
    "matrix3x2 = np.array([[1, 2], [3, 4], [5, 6]])\n",
    "matrix2x3 = np.array([[1, 2, 4], [4, 5, 6]])\n",
    "\n",
    "print('3 x 2 matrix : \\n', matrix3x2)\n",
    "print('\\n 2 x 3 matrix : \\n', matrix2x3)"
   ]
  },
  {
   "cell_type": "code",
   "execution_count": 3,
   "id": "52767322",
   "metadata": {},
   "outputs": [
    {
     "name": "stdout",
     "output_type": "stream",
     "text": [
      "[[0.00889959 0.59433511 0.19603362 0.24295302]\n",
      " [0.69855466 0.73999933 0.21958476 0.48459711]\n",
      " [0.41823761 0.07417868 0.56025484 0.27446416]]\n"
     ]
    }
   ],
   "source": [
    "random_matrix = np.random.rand(3, 4)\n",
    "print(random_matrix)"
   ]
  },
  {
   "cell_type": "code",
   "execution_count": 4,
   "id": "3704ff22",
   "metadata": {},
   "outputs": [
    {
     "name": "stdout",
     "output_type": "stream",
     "text": [
      "[[ 9 12 16]\n",
      " [19 26 36]\n",
      " [29 40 56]]\n"
     ]
    }
   ],
   "source": [
    "#matrix multiplication\n",
    "\n",
    "matmul = np.dot(matrix3x2, matrix2x3)\n",
    "print(matmul)"
   ]
  },
  {
   "cell_type": "code",
   "execution_count": 5,
   "id": "de7ebc17",
   "metadata": {},
   "outputs": [
    {
     "name": "stdout",
     "output_type": "stream",
     "text": [
      "Element wise matrix multiplication : \n",
      " [[9, 12, 16], [19, 26, 36], [29, 40, 56]]\n"
     ]
    }
   ],
   "source": [
    "#elemet wise matrix multiplication\n",
    "result = [[0 for x in range(len(matrix3x2))] for y in range(len(matrix2x3[0]))]\n",
    "\n",
    "for i in range(len(matrix3x2)): \n",
    "  for j in range(len(matrix2x3[0])): \n",
    "    for k in range(len(matrix2x3)): \n",
    "      result[i][j] += matrix3x2[i][k] * matrix2x3[k][j]\n",
    " \n",
    "print('Element wise matrix multiplication : \\n', result)"
   ]
  },
  {
   "cell_type": "code",
   "execution_count": 6,
   "id": "481dc7c9",
   "metadata": {},
   "outputs": [
    {
     "name": "stdout",
     "output_type": "stream",
     "text": [
      "3.5\n"
     ]
    }
   ],
   "source": [
    "mean = np.mean(matrix3x2)\n",
    "print(mean)"
   ]
  },
  {
   "cell_type": "code",
   "execution_count": 7,
   "id": "d165fee0",
   "metadata": {},
   "outputs": [],
   "source": [
    "data = pd.read_csv('mtcars.csv')"
   ]
  },
  {
   "cell_type": "code",
   "execution_count": 8,
   "id": "cfb5198c",
   "metadata": {},
   "outputs": [
    {
     "name": "stdout",
     "output_type": "stream",
     "text": [
      "        mpg     cyl        disp       hp      drat       wt     qsec      vs  \\\n",
      "0  0.909375 -0.1875  -70.721875 -36.6875  0.303437 -0.59725 -1.38875 -0.4375   \n",
      "1  0.909375 -0.1875  -70.721875 -36.6875  0.303437 -0.34225 -0.82875 -0.4375   \n",
      "2  2.709375 -2.1875 -122.721875 -53.6875  0.253437 -0.89725  0.76125  0.5625   \n",
      "3  1.309375 -0.1875   27.278125 -36.6875 -0.516563 -0.00225  1.59125  0.5625   \n",
      "4 -1.390625  1.8125  129.278125  28.3125 -0.446563  0.22275 -0.82875 -0.4375   \n",
      "\n",
      "        am    gear    carb  \n",
      "0  0.59375  0.3125  1.1875  \n",
      "1  0.59375  0.3125  1.1875  \n",
      "2  0.59375  0.3125 -1.8125  \n",
      "3 -0.40625 -0.6875 -1.8125  \n",
      "4 -0.40625 -0.6875 -0.8125  \n"
     ]
    }
   ],
   "source": [
    "del data['model']\n",
    "\n",
    "meancenter = data.apply(lambda e: e - e.mean())\n",
    "print(meancenter.head())"
   ]
  },
  {
   "cell_type": "code",
   "execution_count": null,
   "id": "3a2648c6",
   "metadata": {},
   "outputs": [],
   "source": []
  }
 ],
 "metadata": {
  "kernelspec": {
   "display_name": "Python 3",
   "language": "python",
   "name": "python3"
  },
  "language_info": {
   "codemirror_mode": {
    "name": "ipython",
    "version": 3
   },
   "file_extension": ".py",
   "mimetype": "text/x-python",
   "name": "python",
   "nbconvert_exporter": "python",
   "pygments_lexer": "ipython3",
   "version": "3.8.2"
  }
 },
 "nbformat": 4,
 "nbformat_minor": 5
}
