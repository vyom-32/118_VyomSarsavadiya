{
 "cells": [
  {
   "cell_type": "code",
   "execution_count": 2,
   "id": "87d21675",
   "metadata": {},
   "outputs": [
    {
     "name": "stdout",
     "output_type": "stream",
     "text": [
      "Discussing climate, sustainability, and preserving the natural world with President @EmmanuelMacron today in Paris. BezosEarthFund ClimatePledge\n"
     ]
    }
   ],
   "source": [
    "import nltk\n",
    "import matplotlib.pyplot as plt\n",
    "import pandas as pd\n",
    "\n",
    "text = \"\"\"Discussing climate, sustainability, and preserving the natural world with President @EmmanuelMacron today in Paris. #BezosEarthFund #ClimatePledge\"\"\"\n",
    "\n",
    "import re\n",
    "import string\n",
    "from nltk.corpus import stopwords\n",
    "from nltk.stem import PorterStemmer\n",
    "from nltk.tokenize import TweetTokenizer\n",
    "\n",
    "remove_link = re.sub(f'https?:\\/\\/.*[\\r\\n]*', '', text)\n",
    "remove_link = re.sub(r'#', '', remove_link)\n",
    "print(remove_link)"
   ]
  },
  {
   "cell_type": "code",
   "execution_count": 3,
   "id": "4cd90db3",
   "metadata": {},
   "outputs": [
    {
     "name": "stdout",
     "output_type": "stream",
     "text": [
      "\u001b[92mDiscussing climate, sustainability, and preserving the natural world with President @EmmanuelMacron today in Paris. #BezosEarthFund #ClimatePledge\n",
      "\u001b[92mDiscussing climate, sustainability, and preserving the natural world with President @EmmanuelMacron today in Paris. BezosEarthFund ClimatePledge\n"
     ]
    }
   ],
   "source": [
    "print('\\033[92m' + text)\n",
    "print('\\033[92m' + remove_link)"
   ]
  },
  {
   "cell_type": "code",
   "execution_count": 4,
   "id": "d4d5a3b5",
   "metadata": {},
   "outputs": [
    {
     "name": "stderr",
     "output_type": "stream",
     "text": [
      "[nltk_data] Downloading package punkt to\n",
      "[nltk_data]     C:\\Users\\Dell\\AppData\\Roaming\\nltk_data...\n",
      "[nltk_data]   Unzipping tokenizers\\punkt.zip.\n"
     ]
    },
    {
     "name": "stdout",
     "output_type": "stream",
     "text": [
      "['Hello Mr. steve, how you doing?', 'whats up?', 'The weather is great, and city is awesome.', 'how you doing?', 'The sky is pinkish-blue.', \"You shouldn't eat cardboard, how you doing?\"]\n"
     ]
    }
   ],
   "source": [
    "from nltk.tokenize import sent_tokenize\n",
    "\n",
    "text = \"\"\"Hello Mr. steve, how you doing? whats up? The weather is great, and city is awesome. how you doing? The sky is pinkish-blue. \n",
    "You shouldn't eat cardboard, how you doing?\"\"\"\n",
    "nltk.download('punkt')\n",
    "tokenized_text = sent_tokenize(text)\n",
    "print(tokenized_text)"
   ]
  },
  {
   "cell_type": "code",
   "execution_count": 5,
   "id": "29ae4ff8",
   "metadata": {},
   "outputs": [
    {
     "name": "stdout",
     "output_type": "stream",
     "text": [
      "['Hello', 'Mr.', 'steve', ',', 'how', 'you', 'doing', '?', 'whats', 'up', '?', 'The', 'weather', 'is', 'great', ',', 'and', 'city', 'is', 'awesome', '.', 'how', 'you', 'doing', '?', 'The', 'sky', 'is', 'pinkish-blue', '.', 'You', 'should', \"n't\", 'eat', 'cardboard', ',', 'how', 'you', 'doing', '?']\n"
     ]
    }
   ],
   "source": [
    "from nltk.tokenize import word_tokenize\n",
    "tokenized_word = word_tokenize(text)\n",
    "\n",
    "print(tokenized_word)"
   ]
  },
  {
   "cell_type": "code",
   "execution_count": 6,
   "id": "5c6b6d08",
   "metadata": {},
   "outputs": [
    {
     "data": {
      "image/png": "[encoded data removed]",
      "text/plain": [
       "<Figure size 432x288 with 1 Axes>"
      ]
     },
     "metadata": {
      "needs_background": "light"
     },
     "output_type": "display_data"
    }
   ],
   "source": [
    "# frequency distribution\n",
    "from nltk.probability import FreqDist\n",
    "fredist = FreqDist(tokenized_word)\n",
    "fredist.most_common(4)\n",
    "\n",
    "#plotting frequency distribution\n",
    "import matplotlib.pyplot as plt\n",
    "fredist.plot(30, cumulative = False, color = 'blue')\n",
    "plt.show()"
   ]
  },
  {
   "cell_type": "code",
   "execution_count": 7,
   "id": "b23f763b",
   "metadata": {},
   "outputs": [
    {
     "name": "stderr",
     "output_type": "stream",
     "text": [
      "[nltk_data] Downloading package stopwords to\n",
      "[nltk_data]     C:\\Users\\Dell\\AppData\\Roaming\\nltk_data...\n"
     ]
    },
    {
     "name": "stdout",
     "output_type": "stream",
     "text": [
      "{\"needn't\", 'so', 'hadn', 'd', \"mightn't\", 'ain', 'by', 'while', 'than', \"haven't\", 'has', 'are', 'but', 'can', 'didn', \"couldn't\", \"you'd\", 'have', 'himself', 'did', \"you've\", 'couldn', \"mustn't\", 'shan', 'ourselves', 'up', 'yours', 'why', 'theirs', 'themselves', 'aren', 'isn', 'some', 'for', 'no', 'is', 'when', 'on', \"shouldn't\", 'into', 'had', 'under', 'about', 'any', 'mustn', 'll', 'yourselves', 'me', 'below', 'too', 'yourself', 'an', 't', 'same', \"aren't\", 'then', 'those', \"don't\", 'weren', 'or', 'i', 'be', 'its', 'should', 'do', 'out', 'whom', \"you're\", 'again', 'our', 'just', 'how', 'all', 'wasn', \"hasn't\", 'at', 'having', 'between', 'against', 'now', 'does', 'to', 'there', 'down', 'only', 'will', \"it's\", 'you', 'y', 'until', 'was', 'who', 'being', 'herself', 'during', 'most', 'such', 'above', \"shan't\", 'him', 'her', 'myself', 'of', 'nor', 'with', 'haven', 'own', 've', 'a', 'each', 'and', 'doing', 'your', 'been', 'it', 'where', 'from', 'before', 'because', 'them', 'that', 'as', 'once', 'which', 'what', 'very', 're', 's', 'more', 'wouldn', 'mightn', \"won't\", \"hadn't\", 'am', 'they', 'needn', 'were', 'don', 'off', 'the', \"doesn't\", 'o', \"wasn't\", 'we', 'if', 'ours', 'not', \"wouldn't\", 'through', \"isn't\", \"that'll\", 'he', 'these', 'here', \"should've\", 'itself', 'their', 'over', \"weren't\", 'won', 'both', 'few', 'she', 'in', 'further', \"you'll\", 'my', \"she's\", 'other', 'hers', 'ma', 'after', 'doesn', 'this', \"didn't\", 'shouldn', 'm', 'his', 'hasn'}\n"
     ]
    },
    {
     "name": "stderr",
     "output_type": "stream",
     "text": [
      "[nltk_data]   Unzipping corpora\\stopwords.zip.\n"
     ]
    }
   ],
   "source": [
    "from nltk.corpus import stopwords\n",
    "nltk.download('stopwords')\n",
    "stop_words = set(stopwords.words('english'))\n",
    "print(stop_words)"
   ]
  },
  {
   "cell_type": "code",
   "execution_count": 8,
   "id": "28083cb4",
   "metadata": {},
   "outputs": [
    {
     "name": "stdout",
     "output_type": "stream",
     "text": [
      "Tokenized Sentence : \n",
      " ['Hello', 'Mr.', 'steve', ',', 'how', 'you', 'doing', '?', 'whats', 'up', '?', 'The', 'weather', 'is', 'great', ',', 'and', 'city', 'is', 'awesome', '.', 'how', 'you', 'doing', '?', 'The', 'sky', 'is', 'pinkish-blue', '.', 'You', 'should', \"n't\", 'eat', 'cardboard', ',', 'how', 'you', 'doing', '?']\n",
      "\n",
      "Filtered Sentence : \n",
      " ['Hello', 'Mr.', 'steve', ',', '?', 'whats', '?', 'The', 'weather', 'great', ',', 'city', 'awesome', '.', '?', 'The', 'sky', 'pinkish-blue', '.', 'You', \"n't\", 'eat', 'cardboard', ',', '?']\n"
     ]
    }
   ],
   "source": [
    "filtered_sentence = []\n",
    "for word in tokenized_word:\n",
    "  if word not in stop_words:\n",
    "    filtered_sentence.append(word)\n",
    "print('Tokenized Sentence : \\n', tokenized_word)\n",
    "print('\\nFiltered Sentence : \\n', filtered_sentence)"
   ]
  },
  {
   "cell_type": "code",
   "execution_count": 9,
   "id": "1ecdd6e3",
   "metadata": {},
   "outputs": [
    {
     "name": "stdout",
     "output_type": "stream",
     "text": [
      "Filtered Sentence : \n",
      " ['Hello', 'Mr.', 'steve', ',', '?', 'whats', '?', 'The', 'weather', 'great', ',', 'city', 'awesome', '.', '?', 'The', 'sky', 'pinkish-blue', '.', 'You', \"n't\", 'eat', 'cardboard', ',', '?']\n",
      "\n",
      "Stemmed Sentence : \n",
      " ['hello', 'mr.', 'steve', ',', '?', 'what', '?', 'the', 'weather', 'great', ',', 'citi', 'awesom', '.', '?', 'the', 'sky', 'pinkish-blu', '.', 'you', \"n't\", 'eat', 'cardboard', ',', '?']\n"
     ]
    }
   ],
   "source": [
    "from nltk.stem import PorterStemmer\n",
    "from nltk.tokenize import sent_tokenize, word_tokenize\n",
    "\n",
    "ps = PorterStemmer()\n",
    "stemmed_sentence = []\n",
    "for word in filtered_sentence:\n",
    "  stemmed_sentence.append(ps.stem(word))\n",
    "\n",
    "print('Filtered Sentence : \\n', filtered_sentence)\n",
    "print('\\nStemmed Sentence : \\n', stemmed_sentence)"
   ]
  },
  {
   "cell_type": "code",
   "execution_count": 10,
   "id": "d55e166d",
   "metadata": {},
   "outputs": [
    {
     "name": "stderr",
     "output_type": "stream",
     "text": [
      "[nltk_data] Downloading package wordnet to\n",
      "[nltk_data]     C:\\Users\\Dell\\AppData\\Roaming\\nltk_data...\n",
      "[nltk_data]   Unzipping corpora\\wordnet.zip.\n"
     ]
    },
    {
     "name": "stdout",
     "output_type": "stream",
     "text": [
      "Lemmatized Word  :   cry\n",
      "Stemmed word  :   cri\n"
     ]
    }
   ],
   "source": [
    "#stemming and lemmatization\n",
    "\n",
    "from nltk.stem.wordnet import WordNetLemmatizer\n",
    "from nltk.stem.porter import PorterStemmer\n",
    "\n",
    "nltk.download('wordnet')\n",
    "lemmatizer = WordNetLemmatizer()\n",
    "ps = PorterStemmer()\n",
    "word = 'crying'\n",
    "print('Lemmatized Word  :  ', lemmatizer.lemmatize(word, 'v'))\n",
    "print('Stemmed word  :  ', ps.stem(word))"
   ]
  },
  {
   "cell_type": "code",
   "execution_count": null,
   "id": "052424e0",
   "metadata": {},
   "outputs": [],
   "source": []
  }
 ],
 "metadata": {
  "kernelspec": {
   "display_name": "Python 3",
   "language": "python",
   "name": "python3"
  },
  "language_info": {
   "codemirror_mode": {
    "name": "ipython",
    "version": 3
   },
   "file_extension": ".py",
   "mimetype": "text/x-python",
   "name": "python",
   "nbconvert_exporter": "python",
   "pygments_lexer": "ipython3",
   "version": "3.8.2"
  }
 },
 "nbformat": 4,
 "nbformat_minor": 5
}
