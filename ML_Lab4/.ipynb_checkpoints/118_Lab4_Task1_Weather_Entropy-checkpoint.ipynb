{
 "cells": [
  {
   "cell_type": "markdown",
   "id": "4c024582",
   "metadata": {},
   "source": [
    "Task-1: Try the algo on Same Whether dataset - OneHotEncoding of features: and Train test Division 85%-15% with Gini Index as attribute selection measure"
   ]
  },
  {
   "cell_type": "code",
   "execution_count": 14,
   "id": "b07f7906",
   "metadata": {},
   "outputs": [],
   "source": [
    "#Import library\n",
    "\n",
    "from sklearn import preprocessing\n",
    "from sklearn import datasets\n",
    "from sklearn.tree import DecisionTreeClassifier\n",
    "import pandas as pd\n",
    "import numpy as np"
   ]
  },
  {
   "cell_type": "code",
   "execution_count": 15,
   "id": "e2fde06d",
   "metadata": {},
   "outputs": [],
   "source": [
    "#Predictor variables\n",
    "\n",
    "Outlook = ['Rainy', 'Rainy', 'Overcast', 'Sunny', 'Sunny', 'Sunny', 'Overcast',\n",
    "            'Rainy', 'Rainy', 'Sunny', 'Rainy','Overcast', 'Overcast', 'Sunny']\n",
    "Temperature = ['Hot', 'Hot', 'Hot', 'Mild', 'Cool', 'Cool', 'Cool',\n",
    "                'Mild', 'Cool', 'Mild', 'Mild', 'Mild', 'Hot', 'Mild']\n",
    "Humidity = ['High', 'High', 'High', 'High', 'Normal', 'Normal', 'Normal',\n",
    "            'High', 'Normal', 'Normal', 'Normal', 'High', 'Normal', 'High']\n",
    "Wind = ['False', 'True', 'False', 'False', 'False', 'True', 'True',\n",
    "            'False', 'False', 'False', 'True', 'True', 'False', 'True']\n",
    "\n",
    "#Class Label:\n",
    "Play = ['No', 'No', 'Yes', 'Yes', 'Yes', 'No', 'Yes', 'No',\n",
    "'Yes', 'Yes', 'Yes', 'Yes', 'Yes', 'No']"
   ]
  },
  {
   "cell_type": "code",
   "execution_count": 16,
   "id": "0a5941c1",
   "metadata": {},
   "outputs": [
    {
     "name": "stdout",
     "output_type": "stream",
     "text": [
      "(('Rainy', 'Hot', 'High', 'False'), ('Rainy', 'Hot', 'High', 'True'), ('Overcast', 'Hot', 'High', 'False'), ('Sunny', 'Mild', 'High', 'False'), ('Sunny', 'Cool', 'Normal', 'False'), ('Sunny', 'Cool', 'Normal', 'True'), ('Overcast', 'Cool', 'Normal', 'True'), ('Rainy', 'Mild', 'High', 'False'), ('Rainy', 'Cool', 'Normal', 'False'), ('Sunny', 'Mild', 'Normal', 'False'), ('Rainy', 'Mild', 'Normal', 'True'), ('Overcast', 'Mild', 'High', 'True'), ('Overcast', 'Hot', 'Normal', 'False'), ('Sunny', 'Mild', 'High', 'True'))\n",
      "\n",
      " [[0. 1. 0. 0. 1. 0. 1. 0. 1. 0.]\n",
      " [0. 1. 0. 0. 1. 0. 1. 0. 0. 1.]\n",
      " [1. 0. 0. 0. 1. 0. 1. 0. 1. 0.]\n",
      " [0. 0. 1. 0. 0. 1. 1. 0. 1. 0.]\n",
      " [0. 0. 1. 1. 0. 0. 0. 1. 1. 0.]\n",
      " [0. 0. 1. 1. 0. 0. 0. 1. 0. 1.]\n",
      " [1. 0. 0. 1. 0. 0. 0. 1. 0. 1.]\n",
      " [0. 1. 0. 0. 0. 1. 1. 0. 1. 0.]\n",
      " [0. 1. 0. 1. 0. 0. 0. 1. 1. 0.]\n",
      " [0. 0. 1. 0. 0. 1. 0. 1. 1. 0.]\n",
      " [0. 1. 0. 0. 0. 1. 0. 1. 0. 1.]\n",
      " [1. 0. 0. 0. 0. 1. 1. 0. 0. 1.]\n",
      " [1. 0. 0. 0. 1. 0. 0. 1. 1. 0.]\n",
      " [0. 0. 1. 0. 0. 1. 1. 0. 0. 1.]]\n",
      "\n",
      " [0 0 1 1 1 0 1 0 1 1 1 1 1 0]\n"
     ]
    }
   ],
   "source": [
    "#Encoding the features using one-hot encoding\n",
    "\n",
    "from sklearn.preprocessing import OneHotEncoder\n",
    "X = tuple(zip(Outlook, Temperature, Humidity, Wind))\n",
    "print(X)\n",
    "X_enc = OneHotEncoder().fit_transform(X).toarray()\n",
    "print(\"\\n\",X_enc)\n",
    "\n",
    "from sklearn.preprocessing import LabelEncoder\n",
    "le = LabelEncoder()\n",
    "Y_enc = le.fit_transform(Play)\n",
    "print(\"\\n\",Y_enc)"
   ]
  },
  {
   "cell_type": "code",
   "execution_count": 17,
   "id": "9fa00fad",
   "metadata": {},
   "outputs": [
    {
     "name": "stdout",
     "output_type": "stream",
     "text": [
      "\n",
      "Features\n",
      "\n",
      "[0. 1. 0. 0. 1. 0. 1. 0. 1. 0.]\n",
      "[0. 1. 0. 0. 1. 0. 1. 0. 0. 1.]\n",
      "[1. 0. 0. 0. 1. 0. 1. 0. 1. 0.]\n",
      "[0. 0. 1. 0. 0. 1. 1. 0. 1. 0.]\n",
      "[0. 0. 1. 1. 0. 0. 0. 1. 1. 0.]\n",
      "[0. 0. 1. 1. 0. 0. 0. 1. 0. 1.]\n",
      "[1. 0. 0. 1. 0. 0. 0. 1. 0. 1.]\n",
      "[0. 1. 0. 0. 0. 1. 1. 0. 1. 0.]\n",
      "[0. 1. 0. 1. 0. 0. 0. 1. 1. 0.]\n",
      "[0. 0. 1. 0. 0. 1. 0. 1. 1. 0.]\n",
      "[0. 1. 0. 0. 0. 1. 0. 1. 0. 1.]\n",
      "[1. 0. 0. 0. 0. 1. 1. 0. 0. 1.]\n",
      "[1. 0. 0. 0. 1. 0. 0. 1. 1. 0.]\n",
      "[0. 0. 1. 0. 0. 1. 1. 0. 0. 1.]\n"
     ]
    }
   ],
   "source": [
    "#Merge different features to prepare dataset\n",
    "#create a tuples of different values\n",
    "\n",
    "print(\"\\nFeatures\\n\")\n",
    "for pair in X_enc:\n",
    "  print(pair)"
   ]
  },
  {
   "cell_type": "code",
   "execution_count": 18,
   "id": "ff9edf35",
   "metadata": {},
   "outputs": [
    {
     "name": "stdout",
     "output_type": "stream",
     "text": [
      "[[0. 1. 0. 0. 0. 1. 1. 0. 1. 0.]\n",
      " [0. 1. 0. 0. 1. 0. 1. 0. 0. 1.]\n",
      " [1. 0. 0. 1. 0. 0. 0. 1. 0. 1.]\n",
      " [0. 0. 1. 0. 0. 1. 1. 0. 0. 1.]\n",
      " [0. 0. 1. 1. 0. 0. 0. 1. 1. 0.]\n",
      " [0. 1. 0. 1. 0. 0. 0. 1. 1. 0.]\n",
      " [1. 0. 0. 0. 1. 0. 1. 0. 1. 0.]\n",
      " [0. 0. 1. 0. 0. 1. 0. 1. 1. 0.]\n",
      " [1. 0. 0. 0. 1. 0. 0. 1. 1. 0.]\n",
      " [1. 0. 0. 0. 0. 1. 1. 0. 0. 1.]\n",
      " [0. 1. 0. 0. 1. 0. 1. 0. 1. 0.]]\n"
     ]
    }
   ],
   "source": [
    "from sklearn.model_selection import train_test_split\n",
    "\n",
    "x_train, x_test, y_train, y_test = train_test_split(X_enc, Y_enc, test_size = 0.15, random_state = 118)\n",
    "print(x_train)"
   ]
  },
  {
   "cell_type": "code",
   "execution_count": 19,
   "id": "4f7e9e5d",
   "metadata": {},
   "outputs": [
    {
     "data": {
      "text/plain": [
       "DecisionTreeClassifier(max_leaf_nodes=118, random_state=118)"
      ]
     },
     "execution_count": 19,
     "metadata": {},
     "output_type": "execute_result"
    }
   ],
   "source": [
    "from sklearn import metrics\n",
    "\n",
    "dtc = DecisionTreeClassifier(criterion = \"gini\", \n",
    "                             random_state = 118, \n",
    "                             max_leaf_nodes=118)\n",
    "\n",
    "dtc.fit(x_train, y_train)"
   ]
  },
  {
   "cell_type": "code",
   "execution_count": 20,
   "id": "2ff3fa09",
   "metadata": {},
   "outputs": [
    {
     "name": "stdout",
     "output_type": "stream",
     "text": [
      "Predicted values: \n",
      "[0 1 1]\n"
     ]
    }
   ],
   "source": [
    "# Predict the classes of test data\n",
    "y_pred = dtc.predict(x_test)\n",
    "print(\"Predicted values: \")\n",
    "print(y_pred)"
   ]
  },
  {
   "cell_type": "code",
   "execution_count": 21,
   "id": "f8276685",
   "metadata": {},
   "outputs": [
    {
     "name": "stdout",
     "output_type": "stream",
     "text": [
      "Confusion Matrix:  [[0 1]\n",
      " [1 1]]\n",
      "Accuracy :  33.33333333333333\n",
      "Report :                precision    recall  f1-score   support\n",
      "\n",
      "           0       0.00      0.00      0.00         1\n",
      "           1       0.50      0.50      0.50         2\n",
      "\n",
      "    accuracy                           0.33         3\n",
      "   macro avg       0.25      0.25      0.25         3\n",
      "weighted avg       0.33      0.33      0.33         3\n",
      "\n"
     ]
    }
   ],
   "source": [
    "# Model Accuracy\n",
    "from sklearn import metrics\n",
    "from sklearn.metrics import precision_score\n",
    "from sklearn.metrics import recall_score\n",
    "\n",
    "print(\"Confusion Matrix: \", metrics.confusion_matrix(y_test, y_pred))\n",
    "print (\"Accuracy : \", metrics.accuracy_score(y_test,y_pred)*100)\n",
    "print(\"Report : \", metrics.classification_report(y_test, y_pred))"
   ]
  },
  {
   "cell_type": "code",
   "execution_count": null,
   "id": "be6ebb26",
   "metadata": {},
   "outputs": [],
   "source": []
  }
 ],
 "metadata": {
  "kernelspec": {
   "display_name": "Python 3",
   "language": "python",
   "name": "python3"
  },
  "language_info": {
   "codemirror_mode": {
    "name": "ipython",
    "version": 3
   },
   "file_extension": ".py",
   "mimetype": "text/x-python",
   "name": "python",
   "nbconvert_exporter": "python",
   "pygments_lexer": "ipython3",
   "version": "3.8.2"
  }
 },
 "nbformat": 4,
 "nbformat_minor": 5
}
