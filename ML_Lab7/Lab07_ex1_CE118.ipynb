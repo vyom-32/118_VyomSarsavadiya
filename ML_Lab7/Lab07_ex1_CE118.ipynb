{
  "nbformat": 4,
  "nbformat_minor": 0,
  "metadata": {
    "colab": {
      "name": "Lab07_ex1_CE118.ipynb",
      "provenance": [],
      "collapsed_sections": []
    },
    "kernelspec": {
      "name": "python3",
      "display_name": "Python 3"
    },
    "language_info": {
      "name": "python"
    }
  },
  "cells": [
    {
      "cell_type": "code",
      "metadata": {
        "id": "lGgeKXPQer5u"
      },
      "source": [
        "#Replace Manual version of Logistic Regression with TF based version."
      ],
      "execution_count": null,
      "outputs": []
    },
    {
      "cell_type": "code",
      "metadata": {
        "colab": {
          "base_uri": "https://localhost:8080/"
        },
        "id": "Isqq_i-ifgFC",
        "outputId": "6968db93-95c7-4589-ba4e-f01bec190e1a"
      },
      "source": [
        "import nltk\n",
        "from nltk.corpus import twitter_samples \n",
        "import pandas as pd\n",
        "import tensorflow.compat.v1 as tf\n",
        "tf.disable_v2_behavior()"
      ],
      "execution_count": 1,
      "outputs": [
        {
          "output_type": "stream",
          "name": "stdout",
          "text": [
            "WARNING:tensorflow:From /usr/local/lib/python3.7/dist-packages/tensorflow/python/compat/v2_compat.py:101: disable_resource_variables (from tensorflow.python.ops.variable_scope) is deprecated and will be removed in a future version.\n",
            "Instructions for updating:\n",
            "non-resource variables are not supported in the long term\n"
          ]
        }
      ]
    },
    {
      "cell_type": "code",
      "metadata": {
        "colab": {
          "base_uri": "https://localhost:8080/"
        },
        "id": "VSnEtNOrfp1P",
        "outputId": "61216171-8195-4453-d63c-3aabfb86ec2b"
      },
      "source": [
        "nltk.download('twitter_samples')\n",
        "nltk.download('stopwords')"
      ],
      "execution_count": 2,
      "outputs": [
        {
          "output_type": "stream",
          "name": "stdout",
          "text": [
            "[nltk_data] Downloading package twitter_samples to /root/nltk_data...\n",
            "[nltk_data]   Unzipping corpora/twitter_samples.zip.\n",
            "[nltk_data] Downloading package stopwords to /root/nltk_data...\n",
            "[nltk_data]   Unzipping corpora/stopwords.zip.\n"
          ]
        },
        {
          "output_type": "execute_result",
          "data": {
            "text/plain": [
              "True"
            ]
          },
          "metadata": {},
          "execution_count": 2
        }
      ]
    },
    {
      "cell_type": "code",
      "metadata": {
        "id": "QAbaax0Tfse8"
      },
      "source": [
        "import re\n",
        "import string\n",
        "import numpy as np\n",
        "from nltk.corpus import stopwords\n",
        "from nltk.stem import PorterStemmer\n",
        "from nltk.tokenize import TweetTokenizer"
      ],
      "execution_count": 3,
      "outputs": []
    },
    {
      "cell_type": "code",
      "metadata": {
        "id": "VUplArPlfunZ"
      },
      "source": [
        "all_positive_tweets = twitter_samples.strings('positive_tweets.json')\n",
        "all_negative_tweets = twitter_samples.strings('negative_tweets.json')"
      ],
      "execution_count": 4,
      "outputs": []
    },
    {
      "cell_type": "code",
      "metadata": {
        "id": "akEsrSVNfw0c"
      },
      "source": [
        "test_pos = all_positive_tweets[4000:]\n",
        "train_pos = all_positive_tweets[:4000]\n",
        "test_neg = all_negative_tweets[4000:]\n",
        "train_neg = all_negative_tweets[:4000]\n",
        "train_x = train_pos+train_neg\n",
        "test_x = test_pos+test_neg"
      ],
      "execution_count": 5,
      "outputs": []
    },
    {
      "cell_type": "code",
      "metadata": {
        "id": "IfE-jiE1fyt5"
      },
      "source": [
        "def process_tweet(tweet):\n",
        "    stemmer = PorterStemmer()\n",
        "    stopwords_english = stopwords.words('english')\n",
        "\n",
        "    tweet = re.sub(r'\\$\\w*', '', tweet)\n",
        "    tweet = re.sub(r'^RT[\\s]+', '', tweet)\n",
        "    tweet = re.sub(r'https?:\\/\\/.*[\\r\\n]*', '', tweet)\n",
        "    tweet = re.sub(r'#', '', tweet)\n",
        "   \n",
        "    tokenizer = TweetTokenizer(preserve_case=False, strip_handles=True,\n",
        "                               reduce_len=True)\n",
        "    tweet_tokens = tokenizer.tokenize(tweet)\n",
        "\n",
        "    tweets_clean = []\n",
        "    for word in tweet_tokens:\n",
        "            if(word not in stopwords_english and word not in string.punctuation):\n",
        "              steam_word=stemmer.stem(word)\n",
        "              tweets_clean.append(steam_word)\n",
        "    return tweets_clean"
      ],
      "execution_count": 6,
      "outputs": []
    },
    {
      "cell_type": "code",
      "metadata": {
        "id": "3p4bf2Klfz8c"
      },
      "source": [
        "def build_freqs(tweets, ys):\n",
        "  yslist = np.squeeze(ys).tolist()\n",
        "  freqs = {}\n",
        "  for y, tweet in zip(yslist, tweets):\n",
        "    for word in process_tweet(tweet):\n",
        "      pair = (word, y)\n",
        "      if pair in freqs:\n",
        "        freqs[pair] += 1\n",
        "      else:\n",
        "        freqs[pair] = 1\n",
        "  return freqs"
      ],
      "execution_count": 7,
      "outputs": []
    },
    {
      "cell_type": "code",
      "metadata": {
        "id": "EO9OuUcgf2Pc"
      },
      "source": [
        "train_y = np.append(np.ones((len(train_pos), 1)), np.zeros((len(train_neg), 1)), axis=0)\n",
        "test_y = np.append(np.ones((len(test_pos), 1)), np.zeros((len(test_neg), 1)), axis=0)"
      ],
      "execution_count": 8,
      "outputs": []
    },
    {
      "cell_type": "code",
      "metadata": {
        "colab": {
          "base_uri": "https://localhost:8080/"
        },
        "id": "Cbzthg4Kf6A-",
        "outputId": "7eacc58a-89b9-4918-c801-e32a98082103"
      },
      "source": [
        "freqs = build_freqs(train_x,train_y)\n",
        "\n",
        "print(\"\\ntype(freqs) = \" + str(type(freqs)))\n",
        "print(\"len(freqs) = \" + str(len(freqs.keys())))"
      ],
      "execution_count": 9,
      "outputs": [
        {
          "output_type": "stream",
          "name": "stdout",
          "text": [
            "\n",
            "type(freqs) = <class 'dict'>\n",
            "len(freqs) = 11346\n"
          ]
        }
      ]
    },
    {
      "cell_type": "code",
      "metadata": {
        "colab": {
          "base_uri": "https://localhost:8080/"
        },
        "id": "pA9oqPUXf8cn",
        "outputId": "17dfad2c-f475-43cd-b039-2ad09248162f"
      },
      "source": [
        "print('Example of positive tweet: \\n', train_x[0])\n",
        "print('\\nExample of the processed version of the tweet: \\n', process_tweet(train_x[0]))"
      ],
      "execution_count": 10,
      "outputs": [
        {
          "output_type": "stream",
          "name": "stdout",
          "text": [
            "Example of positive tweet: \n",
            " #FollowFriday @France_Inte @PKuchly57 @Milipol_Paris for being top engaged members in my community this week :)\n",
            "\n",
            "Example of the processed version of the tweet: \n",
            " ['followfriday', 'top', 'engag', 'member', 'commun', 'week', ':)']\n"
          ]
        }
      ]
    },
    {
      "cell_type": "code",
      "metadata": {
        "id": "DSoCNVHJf_V-"
      },
      "source": [
        "def extract_features(tweet, freqs):\n",
        " \n",
        "    word_l = process_tweet(tweet)\n",
        "    x = np.zeros((1, 2)) \n",
        "    \n",
        "    for word in word_l:\n",
        "        if((word,1) in freqs):\n",
        "          x[0,0]+=freqs[word,1]\n",
        "    \n",
        "        if((word,0) in freqs):\n",
        "          x[0,1]+=freqs[word,0]\n",
        "    \n",
        "    assert(x.shape == (1, 2))\n",
        "    return x[0]"
      ],
      "execution_count": 11,
      "outputs": []
    },
    {
      "cell_type": "code",
      "metadata": {
        "colab": {
          "base_uri": "https://localhost:8080/"
        },
        "id": "WMTH2jqdgCCV",
        "outputId": "6b8dc75d-43df-4c55-c348-d08db461e277"
      },
      "source": [
        "# test 1 : 0n training data \n",
        "tmp1 = extract_features(train_x[0], freqs)\n",
        "print(tmp1)"
      ],
      "execution_count": 12,
      "outputs": [
        {
          "output_type": "stream",
          "name": "stdout",
          "text": [
            "[3020.   61.]\n"
          ]
        }
      ]
    },
    {
      "cell_type": "code",
      "metadata": {
        "colab": {
          "base_uri": "https://localhost:8080/"
        },
        "id": "Vi97kd3XgD7L",
        "outputId": "31cdae7e-0cf9-4adb-ffbe-32f34a998fe6"
      },
      "source": [
        "# test 2: check for when the words are not in the freqs dictionary\n",
        "tmp2 = extract_features('happy', freqs)\n",
        "print(tmp2)"
      ],
      "execution_count": 13,
      "outputs": [
        {
          "output_type": "stream",
          "name": "stdout",
          "text": [
            "[161.  18.]\n"
          ]
        }
      ]
    },
    {
      "cell_type": "code",
      "metadata": {
        "id": "pV75CbQsgF1p"
      },
      "source": [
        "def predict_tweet(tweet):\n",
        "  with tf.Session() as sess:\n",
        "      saver.restore(sess,save_path='TSession')\n",
        "      data_i=[]\n",
        "      for t in tweet:\n",
        "        data_i.append(extract_features(t,freqs))\n",
        "      data_i=np.asarray(data_i)\n",
        "      return sess.run(tf.nn.sigmoid(tf.add(tf.matmul(a=data_i,b=W,transpose_b=True),b)))\n",
        "      print(\"Fail\")\n",
        "  return "
      ],
      "execution_count": 14,
      "outputs": []
    },
    {
      "cell_type": "code",
      "metadata": {
        "id": "R2E25zl4gH2F"
      },
      "source": [
        "b=tf.Variable(np.random.randn(1),name=\"Bias\")\n",
        "W=tf.Variable(np.random.randn(1,2),name=\"Bias\")"
      ],
      "execution_count": 15,
      "outputs": []
    },
    {
      "cell_type": "code",
      "metadata": {
        "id": "8VJIa8OHgJy8"
      },
      "source": [
        "data=[]\n",
        "for t in train_x:\n",
        "  data.append(extract_features(t,freqs))\n",
        "data=np.asarray(data)"
      ],
      "execution_count": 16,
      "outputs": []
    },
    {
      "cell_type": "code",
      "metadata": {
        "colab": {
          "base_uri": "https://localhost:8080/"
        },
        "id": "YY5ey05-gMCv",
        "outputId": "347113a1-911b-4a2a-d42b-96b375ce8412"
      },
      "source": [
        "Y_hat = tf.nn.sigmoid(tf.add(tf.matmul(np.asarray(data), W,transpose_b=True), b)) \n",
        "print(Y_hat)\n",
        "ta=np.asarray(train_y)\n",
        "cost = tf.nn.sigmoid_cross_entropy_with_logits( \n",
        "                    logits = Y_hat, labels = ta) \n",
        "print(\"\\n\",cost)"
      ],
      "execution_count": 17,
      "outputs": [
        {
          "output_type": "stream",
          "name": "stdout",
          "text": [
            "Tensor(\"Sigmoid:0\", shape=(8000, 1), dtype=float64)\n",
            "\n",
            " Tensor(\"logistic_loss:0\", shape=(8000, 1), dtype=float64)\n"
          ]
        }
      ]
    },
    {
      "cell_type": "code",
      "metadata": {
        "id": "zvWE_saxgOIo"
      },
      "source": [
        "optimizer = tf.train.GradientDescentOptimizer(learning_rate = 1e-4,name=\"GradientDescent\").minimize(cost) \n",
        "init = tf.global_variables_initializer() "
      ],
      "execution_count": 18,
      "outputs": []
    },
    {
      "cell_type": "code",
      "metadata": {
        "colab": {
          "base_uri": "https://localhost:8080/"
        },
        "id": "09vOwiHWgP4n",
        "outputId": "50728de4-da9f-430c-cb8f-777ef9c48b8e"
      },
      "source": [
        "saver = tf.train.Saver()\n",
        "with tf.Session() as sess:\n",
        "  \n",
        "  sess.run(init)\n",
        "  print(\"Bias\",sess.run(b))\n",
        "  print(\"Weight\",sess.run(W))\n",
        "  for epoch in range(400):\n",
        "    sess.run(optimizer)\n",
        "    preds=sess.run(Y_hat)\n",
        "    acc=((preds==ta).sum())/len(train_y)\n",
        "    accu=[]\n",
        "    repoch=False\n",
        "    if repoch:\n",
        "      accu.append(acc)\n",
        "    if epoch % 1000 == 0:\n",
        "      print(\"Accuracy\",acc)\n",
        "    saved_path = saver.save(sess, 'TSession')"
      ],
      "execution_count": 19,
      "outputs": [
        {
          "output_type": "stream",
          "name": "stdout",
          "text": [
            "Bias [0.63395629]\n",
            "Weight [[-0.6225859  -0.74806962]]\n",
            "Accuracy 0.454125\n"
          ]
        }
      ]
    },
    {
      "cell_type": "code",
      "metadata": {
        "colab": {
          "base_uri": "https://localhost:8080/"
        },
        "id": "tAa-hqERgSY_",
        "outputId": "57f8d9cc-48fb-46c2-f7f0-44f1fb4a6b93"
      },
      "source": [
        "preds=predict_tweet(test_x)\n",
        "print(preds,len(test_y))"
      ],
      "execution_count": 20,
      "outputs": [
        {
          "output_type": "stream",
          "name": "stdout",
          "text": [
            "INFO:tensorflow:Restoring parameters from TSession\n",
            "[[0.00000000e+000]\n",
            " [0.00000000e+000]\n",
            " [0.00000000e+000]\n",
            " ...\n",
            " [0.00000000e+000]\n",
            " [0.00000000e+000]\n",
            " [8.22274518e-173]] 2000\n"
          ]
        }
      ]
    },
    {
      "cell_type": "code",
      "metadata": {
        "id": "l0Ex966kgUt5"
      },
      "source": [
        "def calculate_accuracy(x,y):\n",
        "  if len(x)!=len(y):\n",
        "    print(\"dimensions are different\")\n",
        "    return\n",
        "  return ((x==y).sum())/len(y)"
      ],
      "execution_count": 21,
      "outputs": []
    },
    {
      "cell_type": "code",
      "metadata": {
        "colab": {
          "base_uri": "https://localhost:8080/"
        },
        "id": "FDObtEHugWtu",
        "outputId": "36800227-78f7-4058-a6c5-f6469084de94"
      },
      "source": [
        "print(calculate_accuracy(preds,test_y))"
      ],
      "execution_count": 22,
      "outputs": [
        {
          "output_type": "stream",
          "name": "stdout",
          "text": [
            "0.4505\n"
          ]
        }
      ]
    }
  ]
}