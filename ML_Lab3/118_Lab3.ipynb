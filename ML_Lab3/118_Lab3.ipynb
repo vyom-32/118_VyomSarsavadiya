{
 "cells": [
  {
   "cell_type": "markdown",
   "id": "ddaf2a02",
   "metadata": {},
   "source": [
    "Task 1 :- Try the algo on Dataset3 - OneHotEncoding of features : and train test division 85% - 15%."
   ]
  },
  {
   "cell_type": "code",
   "execution_count": 1,
   "id": "8f331d1a",
   "metadata": {},
   "outputs": [],
   "source": [
    "import numpy as np\n",
    "import pandas as pd\n",
    "from sklearn import datasets, preprocessing\n",
    "from sklearn.naive_bayes import GaussianNB, MultinomialNB\n",
    "\n",
    "dataset = pd.read_csv('Dataset3.csv')"
   ]
  },
  {
   "cell_type": "code",
   "execution_count": 2,
   "id": "a4213c22",
   "metadata": {},
   "outputs": [
    {
     "name": "stdout",
     "output_type": "stream",
     "text": [
      "\n",
      "\n",
      "Heading  :-  Outlook\n",
      "\n",
      "\n",
      "Heading  :-  Temp\n",
      "\n",
      "\n",
      "Heading  :-  Wind\n",
      "\n",
      "\n",
      "Heading  :-  Humidity\n"
     ]
    }
   ],
   "source": [
    "label_encoder = preprocessing.LabelEncoder()\n",
    "yrows = None\n",
    "for data_heading in dataset:\n",
    "  # print(data_heading)\n",
    "  if (data_heading != 'Class') :\n",
    "    print(f'\\n\\nHeading  :-  {data_heading}')\n",
    "    dummy = pd.get_dummies(dataset[data_heading])\n",
    "    dataset = dataset.drop([data_heading], axis = 1)\n",
    "    dataset = pd.concat([dataset, dummy], axis = 1)\n",
    "  else:\n",
    "    yrows = label_encoder.fit_transform(dataset[data_heading])\n",
    "    dataset = dataset.drop([data_heading], axis = 1)"
   ]
  },
  {
   "cell_type": "code",
   "execution_count": 3,
   "id": "cda02cfb",
   "metadata": {},
   "outputs": [
    {
     "name": "stdout",
     "output_type": "stream",
     "text": [
      "    O  R  S  C  H  M  F  T  0  1  2\n",
      "0   0  1  0  0  1  0  1  0  0  1  0\n",
      "1   0  1  0  0  1  0  0  1  0  0  1\n",
      "2   1  0  0  0  1  0  1  0  0  1  0\n",
      "3   0  1  0  0  0  1  1  0  0  1  0\n",
      "4   0  0  1  1  0  0  1  0  0  1  0\n",
      "5   1  0  0  1  0  0  0  1  1  0  0\n",
      "6   1  0  0  1  0  0  0  1  0  1  0\n",
      "7   0  1  0  0  0  1  1  0  0  1  0\n",
      "8   1  0  0  1  0  0  1  0  1  0  0\n",
      "9   0  0  1  0  0  1  1  0  0  0  1\n",
      "10  0  1  0  1  0  0  0  1  0  0  1\n",
      "11  1  0  0  0  0  1  0  1  1  0  0\n",
      "12  1  0  0  0  1  0  1  0  0  1  0\n",
      "13  0  0  1  0  0  1  0  1  0  1  0 [0 0 1 1 1 0 1 0 1 1 0 1 1 0]\n"
     ]
    }
   ],
   "source": [
    "print(dataset, yrows)"
   ]
  },
  {
   "cell_type": "code",
   "execution_count": 5,
   "id": "4232a5ac",
   "metadata": {},
   "outputs": [],
   "source": [
    "from sklearn.model_selection import train_test_split\n",
    "\n",
    "xtrain, xtest, ytrain, ytest = train_test_split(dataset, yrows, test_size = 0.15, random_state = 118)"
   ]
  },
  {
   "cell_type": "code",
   "execution_count": 6,
   "id": "12f173b9",
   "metadata": {},
   "outputs": [
    {
     "name": "stdout",
     "output_type": "stream",
     "text": [
      "    O  R  S  C  H  M  F  T  0  1  2\n",
      "3   0  1  0  0  0  1  1  0  0  1  0\n",
      "5   1  0  0  1  0  0  0  1  1  0  0\n",
      "10  0  1  0  1  0  0  0  1  0  0  1\n",
      "\n",
      " [0 1 0]\n"
     ]
    }
   ],
   "source": [
    "model = MultinomialNB()\n",
    "model.fit(xtrain, ytrain)\n",
    "\n",
    "y_predicted = model.predict(xtest)\n",
    "print(xtest)\n",
    "print('\\n', y_predicted)"
   ]
  },
  {
   "cell_type": "code",
   "execution_count": 7,
   "id": "c873d8f6",
   "metadata": {},
   "outputs": [
    {
     "name": "stdout",
     "output_type": "stream",
     "text": [
      "Accuracy is  :-  0.3333333333333333\n",
      "Precision  :-  0.0\n",
      "Recall  :-  0.0\n"
     ]
    }
   ],
   "source": [
    "from sklearn import metrics\n",
    "from sklearn.metrics import precision_score\n",
    "from sklearn.metrics import recall_score\n",
    "\n",
    "print(f'Accuracy is  :-  {metrics.accuracy_score(ytest, y_predicted)}')\n",
    "\n",
    "#precision and recall\n",
    "precision = precision_score(ytest, y_predicted)\n",
    "recall = recall_score(ytest, y_predicted)\n",
    "print(f'Precision  :-  {precision}')\n",
    "print(f'Recall  :-  {recall}')"
   ]
  },
  {
   "cell_type": "code",
   "execution_count": 8,
   "id": "cd2bccca",
   "metadata": {},
   "outputs": [
    {
     "name": "stdout",
     "output_type": "stream",
     "text": [
      "Prediction  :-    [0]\n",
      "Prediction  :-   [1]\n"
     ]
    }
   ],
   "source": [
    "#Task1\n",
    "\n",
    "#Outlook(O, R, S) = Rainy, Temp(C, H, M) = Mild, Humidity(high, low, normal) = Normal, Wind(F, T) = False\n",
    "output = model.predict([[0,1,0, 0,0,1, 0,0,1, 1,0]])\n",
    "print('Prediction  :-   ', output)\n",
    "\n",
    "#Sunny, Cool, High, True\n",
    "output = model.predict([[0,0,1, 1,0,0, 1,0,0, 0,1]])\n",
    "print('Prediction  :-  ', output)"
   ]
  },
  {
   "cell_type": "markdown",
   "id": "cd42ab39",
   "metadata": {},
   "source": [
    "Task 2 :- Apply algorithm on wine dataset - LabelEncoding of features: and train test division 66% - 34% ."
   ]
  },
  {
   "cell_type": "code",
   "execution_count": 9,
   "id": "3c071e09",
   "metadata": {},
   "outputs": [
    {
     "name": "stdout",
     "output_type": "stream",
     "text": [
      "Features : \n",
      " ['alcohol', 'malic_acid', 'ash', 'alcalinity_of_ash', 'magnesium', 'total_phenols', 'flavanoids', 'nonflavanoid_phenols', 'proanthocyanins', 'color_intensity', 'hue', 'od280/od315_of_diluted_wines', 'proline']\n",
      "\n",
      "Labels : \n",
      " ['class_0' 'class_1' 'class_2']\n"
     ]
    },
    {
     "data": {
      "text/plain": [
       "(178, 13)"
      ]
     },
     "execution_count": 9,
     "metadata": {},
     "output_type": "execute_result"
    }
   ],
   "source": [
    "from sklearn import preprocessing\n",
    "from sklearn.naive_bayes import GaussianNB\n",
    "from sklearn.datasets import load_wine\n",
    "\n",
    "wine_data = load_wine()\n",
    "print('Features : \\n', wine_data.feature_names)\n",
    "print('\\nLabels : \\n', wine_data.target_names)\n",
    "wine_data.data.shape"
   ]
  },
  {
   "cell_type": "code",
   "execution_count": 10,
   "id": "0bc77f1a",
   "metadata": {},
   "outputs": [],
   "source": [
    "from sklearn.model_selection import train_test_split\n",
    "\n",
    "data_train, data_test, target_train, target_test = train_test_split(wine_data.data, wine_data.target, test_size = 0.34, random_state = 118)"
   ]
  },
  {
   "cell_type": "code",
   "execution_count": 11,
   "id": "1deb544a",
   "metadata": {},
   "outputs": [],
   "source": [
    "import numpy as np\n",
    "gnb = GaussianNB()\n",
    "\n",
    "gnb.fit(data_train, target_train)   #train the model using training sets\n",
    "target_prediction = gnb.predict(data_test)  #predict the response"
   ]
  },
  {
   "cell_type": "code",
   "execution_count": 12,
   "id": "779abdda",
   "metadata": {},
   "outputs": [
    {
     "name": "stdout",
     "output_type": "stream",
     "text": [
      "Accuracy of model  :   0.9672131147540983\n"
     ]
    }
   ],
   "source": [
    "from sklearn import metrics\n",
    "\n",
    "print('Accuracy of model  :  ', metrics.accuracy_score(target_test, target_prediction))"
   ]
  },
  {
   "cell_type": "code",
   "execution_count": 13,
   "id": "f66370ce",
   "metadata": {},
   "outputs": [
    {
     "data": {
      "text/plain": [
       "array([[15,  0,  0],\n",
       "       [ 0, 27,  2],\n",
       "       [ 0,  0, 17]], dtype=int64)"
      ]
     },
     "execution_count": 13,
     "metadata": {},
     "output_type": "execute_result"
    }
   ],
   "source": [
    "from sklearn.metrics import confusion_matrix\n",
    "confusion_matrix(target_test, target_prediction)"
   ]
  },
  {
   "cell_type": "code",
   "execution_count": 14,
   "id": "c117f691",
   "metadata": {},
   "outputs": [
    {
     "name": "stdout",
     "output_type": "stream",
     "text": [
      "Precision  :  [1.         1.         0.89473684]\n",
      "\n",
      "\n",
      "Recall  :  [1.         0.93103448 1.        ]\n"
     ]
    }
   ],
   "source": [
    "from sklearn.metrics import precision_score\n",
    "from sklearn.metrics import recall_score\n",
    "\n",
    "precision = precision_score(target_test, target_prediction, average = None)\n",
    "recall = recall_score(target_test, target_prediction, average = None)\n",
    "\n",
    "print('Precision  :  {}'.format(precision))\n",
    "print('\\n\\nRecall  :  {}'.format(recall))"
   ]
  },
  {
   "cell_type": "code",
   "execution_count": null,
   "id": "0f1d6d66",
   "metadata": {},
   "outputs": [],
   "source": []
  }
 ],
 "metadata": {
  "kernelspec": {
   "display_name": "Python 3",
   "language": "python",
   "name": "python3"
  },
  "language_info": {
   "codemirror_mode": {
    "name": "ipython",
    "version": 3
   },
   "file_extension": ".py",
   "mimetype": "text/x-python",
   "name": "python",
   "nbconvert_exporter": "python",
   "pygments_lexer": "ipython3",
   "version": "3.8.2"
  }
 },
 "nbformat": 4,
 "nbformat_minor": 5
}
